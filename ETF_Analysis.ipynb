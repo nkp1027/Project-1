{
 "cells": [
  {
   "cell_type": "code",
   "execution_count": 89,
   "id": "578030f3-bae5-4a36-98ad-83c82aa12447",
   "metadata": {},
   "outputs": [],
   "source": [
    "# Initial imports\n",
    "import os\n",
    "import requests\n",
    "import pandas as pd\n",
    "from dotenv import load_dotenv\n",
    "import alpaca_trade_api as tradeapi\n",
    "from MCForecastTools import MCSimulation\n",
    "import hvplot.pandas\n",
    "import numpy as np\n",
    "import seaborn as sns\n",
    "\n",
    "%matplotlib inline"
   ]
  },
  {
   "cell_type": "code",
   "execution_count": 90,
   "id": "252dfadb-cf0e-4fbc-9ce1-90b378f56589",
   "metadata": {},
   "outputs": [
    {
     "data": {
      "text/plain": [
       "True"
      ]
     },
     "execution_count": 90,
     "metadata": {},
     "output_type": "execute_result"
    }
   ],
   "source": [
    "# Load .env enviroment variables\n",
    "load_dotenv()"
   ]
  },
  {
   "cell_type": "code",
   "execution_count": 91,
   "id": "c39b377f-b7d4-4df5-bf82-1bb2dd77db71",
   "metadata": {},
   "outputs": [
    {
     "name": "stdout",
     "output_type": "stream",
     "text": [
      "Alpaca Key type: <class 'str'>\n",
      "Alpaca Secret Key type: <class 'str'>\n"
     ]
    }
   ],
   "source": [
    "alpaca_api_key = os.getenv(\"ALPACA_API_KEY\")\n",
    "alpaca_secret_key = os.getenv(\"ALPACA_SECRET_KEY\")\n",
    "print(f\"Alpaca Key type: {type(alpaca_api_key)}\")\n",
    "print(f\"Alpaca Secret Key type: {type(alpaca_secret_key)}\")\n",
    "# Create the Alpaca API object\n",
    "alpaca = tradeapi.REST(\n",
    "    alpaca_api_key,\n",
    "    alpaca_secret_key,\n",
    "    api_version=\"v2\")"
   ]
  },
  {
   "cell_type": "code",
   "execution_count": 92,
   "id": "a04d7242-0c0b-48cc-a88e-97140f8c5fbb",
   "metadata": {},
   "outputs": [
    {
     "data": {
      "text/html": [
       "<div>\n",
       "<style scoped>\n",
       "    .dataframe tbody tr th:only-of-type {\n",
       "        vertical-align: middle;\n",
       "    }\n",
       "\n",
       "    .dataframe tbody tr th {\n",
       "        vertical-align: top;\n",
       "    }\n",
       "\n",
       "    .dataframe thead th {\n",
       "        text-align: right;\n",
       "    }\n",
       "</style>\n",
       "<table border=\"1\" class=\"dataframe\">\n",
       "  <thead>\n",
       "    <tr style=\"text-align: right;\">\n",
       "      <th></th>\n",
       "      <th>open</th>\n",
       "      <th>high</th>\n",
       "      <th>low</th>\n",
       "      <th>close</th>\n",
       "      <th>volume</th>\n",
       "      <th>trade_count</th>\n",
       "      <th>vwap</th>\n",
       "      <th>symbol</th>\n",
       "    </tr>\n",
       "    <tr>\n",
       "      <th>timestamp</th>\n",
       "      <th></th>\n",
       "      <th></th>\n",
       "      <th></th>\n",
       "      <th></th>\n",
       "      <th></th>\n",
       "      <th></th>\n",
       "      <th></th>\n",
       "      <th></th>\n",
       "    </tr>\n",
       "  </thead>\n",
       "  <tbody>\n",
       "    <tr>\n",
       "      <th>2018-07-10 04:00:00+00:00</th>\n",
       "      <td>42.76</td>\n",
       "      <td>43.10</td>\n",
       "      <td>42.6200</td>\n",
       "      <td>42.74</td>\n",
       "      <td>542509</td>\n",
       "      <td>3614</td>\n",
       "      <td>42.776057</td>\n",
       "      <td>IYE</td>\n",
       "    </tr>\n",
       "    <tr>\n",
       "      <th>2018-07-11 04:00:00+00:00</th>\n",
       "      <td>42.37</td>\n",
       "      <td>42.61</td>\n",
       "      <td>41.5300</td>\n",
       "      <td>41.80</td>\n",
       "      <td>572767</td>\n",
       "      <td>3941</td>\n",
       "      <td>42.065254</td>\n",
       "      <td>IYE</td>\n",
       "    </tr>\n",
       "    <tr>\n",
       "      <th>2018-07-12 04:00:00+00:00</th>\n",
       "      <td>42.03</td>\n",
       "      <td>42.11</td>\n",
       "      <td>41.5700</td>\n",
       "      <td>41.85</td>\n",
       "      <td>577060</td>\n",
       "      <td>4246</td>\n",
       "      <td>41.803008</td>\n",
       "      <td>IYE</td>\n",
       "    </tr>\n",
       "    <tr>\n",
       "      <th>2018-07-13 04:00:00+00:00</th>\n",
       "      <td>41.94</td>\n",
       "      <td>42.35</td>\n",
       "      <td>41.8500</td>\n",
       "      <td>42.10</td>\n",
       "      <td>419597</td>\n",
       "      <td>3069</td>\n",
       "      <td>42.152569</td>\n",
       "      <td>IYE</td>\n",
       "    </tr>\n",
       "    <tr>\n",
       "      <th>2018-07-16 04:00:00+00:00</th>\n",
       "      <td>41.64</td>\n",
       "      <td>41.84</td>\n",
       "      <td>41.2036</td>\n",
       "      <td>41.57</td>\n",
       "      <td>448158</td>\n",
       "      <td>3474</td>\n",
       "      <td>41.473019</td>\n",
       "      <td>IYE</td>\n",
       "    </tr>\n",
       "  </tbody>\n",
       "</table>\n",
       "</div>"
      ],
      "text/plain": [
       "                            open   high      low  close  volume  trade_count  \\\n",
       "timestamp                                                                      \n",
       "2018-07-10 04:00:00+00:00  42.76  43.10  42.6200  42.74  542509         3614   \n",
       "2018-07-11 04:00:00+00:00  42.37  42.61  41.5300  41.80  572767         3941   \n",
       "2018-07-12 04:00:00+00:00  42.03  42.11  41.5700  41.85  577060         4246   \n",
       "2018-07-13 04:00:00+00:00  41.94  42.35  41.8500  42.10  419597         3069   \n",
       "2018-07-16 04:00:00+00:00  41.64  41.84  41.2036  41.57  448158         3474   \n",
       "\n",
       "                                vwap symbol  \n",
       "timestamp                                    \n",
       "2018-07-10 04:00:00+00:00  42.776057    IYE  \n",
       "2018-07-11 04:00:00+00:00  42.065254    IYE  \n",
       "2018-07-12 04:00:00+00:00  41.803008    IYE  \n",
       "2018-07-13 04:00:00+00:00  42.152569    IYE  \n",
       "2018-07-16 04:00:00+00:00  41.473019    IYE  "
      ]
     },
     "execution_count": 92,
     "metadata": {},
     "output_type": "execute_result"
    }
   ],
   "source": [
    "# Format current date as ISO format\n",
    "# Get 5 years' worth of historical data for OIH IYE and AGG\n",
    "start_date = pd.Timestamp(\"2018-07-10\", tz=\"America/New_York\").isoformat()\n",
    "end_date = pd.Timestamp(\"2023-07-10\", tz=\"America/New_York\").isoformat()\n",
    "\n",
    "# Set the tickers\n",
    "tickers = [\"IYE\"]\n",
    "# Set timeframe to \"1Day\" for Alpaca API\n",
    "timeframe = \"1Day\"\n",
    "\n",
    "# Get current closing prices for SPY and AGG\n",
    "df_IYE = alpaca.get_bars(\n",
    "    tickers,\n",
    "    timeframe,\n",
    "    start = start_date,\n",
    "    end = end_date\n",
    ").df\n",
    "\n",
    "# Reorganize the DataFrame\n",
    "# Separate ticker data\n",
    "IYE = df_IYE[df_IYE['symbol']==\"IYE\"].drop('symbol', axis=1)\n",
    "# Preview DataFrame\n",
    "df_IYE.head()"
   ]
  },
  {
   "cell_type": "code",
   "execution_count": 93,
   "id": "7e9d2831-9cf9-4c48-ba98-37e16183bbd8",
   "metadata": {},
   "outputs": [
    {
     "data": {
      "text/plain": [
       "open           0\n",
       "high           0\n",
       "low            0\n",
       "close          0\n",
       "volume         0\n",
       "trade_count    0\n",
       "vwap           0\n",
       "symbol         0\n",
       "dtype: int64"
      ]
     },
     "execution_count": 93,
     "metadata": {},
     "output_type": "execute_result"
    }
   ],
   "source": [
    "# Count nulls\n",
    "df_IYE.isnull().sum()"
   ]
  },
  {
   "cell_type": "code",
   "execution_count": 94,
   "id": "e0eb9db7-d80b-4515-b7f6-fb03c3e9ae00",
   "metadata": {},
   "outputs": [
    {
     "data": {
      "text/plain": [
       "open           float64\n",
       "high           float64\n",
       "low            float64\n",
       "close          float64\n",
       "volume           int64\n",
       "trade_count      int64\n",
       "vwap           float64\n",
       "symbol          object\n",
       "dtype: object"
      ]
     },
     "execution_count": 94,
     "metadata": {},
     "output_type": "execute_result"
    }
   ],
   "source": [
    "#Due to having no nulls, there is no need to drop nulls\n",
    "# Check Data Types\n",
    "df_IYE.dtypes"
   ]
  },
  {
   "cell_type": "code",
   "execution_count": 95,
   "id": "fbcdfd58-9dc1-4947-bb04-0e04b205f6d5",
   "metadata": {},
   "outputs": [
    {
     "data": {
      "text/html": [
       "<div>\n",
       "<style scoped>\n",
       "    .dataframe tbody tr th:only-of-type {\n",
       "        vertical-align: middle;\n",
       "    }\n",
       "\n",
       "    .dataframe tbody tr th {\n",
       "        vertical-align: top;\n",
       "    }\n",
       "\n",
       "    .dataframe thead th {\n",
       "        text-align: right;\n",
       "    }\n",
       "</style>\n",
       "<table border=\"1\" class=\"dataframe\">\n",
       "  <thead>\n",
       "    <tr style=\"text-align: right;\">\n",
       "      <th></th>\n",
       "      <th>close</th>\n",
       "    </tr>\n",
       "    <tr>\n",
       "      <th>timestamp</th>\n",
       "      <th></th>\n",
       "    </tr>\n",
       "  </thead>\n",
       "  <tbody>\n",
       "    <tr>\n",
       "      <th>2018-07-10 04:00:00+00:00</th>\n",
       "      <td>42.74</td>\n",
       "    </tr>\n",
       "    <tr>\n",
       "      <th>2018-07-11 04:00:00+00:00</th>\n",
       "      <td>41.80</td>\n",
       "    </tr>\n",
       "    <tr>\n",
       "      <th>2018-07-12 04:00:00+00:00</th>\n",
       "      <td>41.85</td>\n",
       "    </tr>\n",
       "    <tr>\n",
       "      <th>2018-07-13 04:00:00+00:00</th>\n",
       "      <td>42.10</td>\n",
       "    </tr>\n",
       "    <tr>\n",
       "      <th>2018-07-16 04:00:00+00:00</th>\n",
       "      <td>41.57</td>\n",
       "    </tr>\n",
       "  </tbody>\n",
       "</table>\n",
       "</div>"
      ],
      "text/plain": [
       "                           close\n",
       "timestamp                       \n",
       "2018-07-10 04:00:00+00:00  42.74\n",
       "2018-07-11 04:00:00+00:00  41.80\n",
       "2018-07-12 04:00:00+00:00  41.85\n",
       "2018-07-13 04:00:00+00:00  42.10\n",
       "2018-07-16 04:00:00+00:00  41.57"
      ]
     },
     "execution_count": 95,
     "metadata": {},
     "output_type": "execute_result"
    }
   ],
   "source": [
    " # Use the `drop` function to delete unnecessary columns\n",
    "df_IYE = df_IYE.drop(columns=[\"open\", \"high\", \"low\", \"volume\", \"trade_count\", \"vwap\", \"symbol\"])\n",
    "df_IYE.head()"
   ]
  },
  {
   "cell_type": "code",
   "execution_count": 96,
   "id": "50849008-1f7f-4bc5-a8fd-982e6a5d9d23",
   "metadata": {},
   "outputs": [
    {
     "data": {
      "text/html": [
       "<div>\n",
       "<style scoped>\n",
       "    .dataframe tbody tr th:only-of-type {\n",
       "        vertical-align: middle;\n",
       "    }\n",
       "\n",
       "    .dataframe tbody tr th {\n",
       "        vertical-align: top;\n",
       "    }\n",
       "\n",
       "    .dataframe thead th {\n",
       "        text-align: right;\n",
       "    }\n",
       "</style>\n",
       "<table border=\"1\" class=\"dataframe\">\n",
       "  <thead>\n",
       "    <tr style=\"text-align: right;\">\n",
       "      <th></th>\n",
       "      <th>close</th>\n",
       "    </tr>\n",
       "    <tr>\n",
       "      <th>timestamp</th>\n",
       "      <th></th>\n",
       "    </tr>\n",
       "  </thead>\n",
       "  <tbody>\n",
       "    <tr>\n",
       "      <th>2018-07-11 04:00:00+00:00</th>\n",
       "      <td>-0.021993</td>\n",
       "    </tr>\n",
       "    <tr>\n",
       "      <th>2018-07-12 04:00:00+00:00</th>\n",
       "      <td>0.001196</td>\n",
       "    </tr>\n",
       "    <tr>\n",
       "      <th>2018-07-13 04:00:00+00:00</th>\n",
       "      <td>0.005974</td>\n",
       "    </tr>\n",
       "    <tr>\n",
       "      <th>2018-07-16 04:00:00+00:00</th>\n",
       "      <td>-0.012589</td>\n",
       "    </tr>\n",
       "    <tr>\n",
       "      <th>2018-07-17 04:00:00+00:00</th>\n",
       "      <td>-0.003608</td>\n",
       "    </tr>\n",
       "  </tbody>\n",
       "</table>\n",
       "</div>"
      ],
      "text/plain": [
       "                              close\n",
       "timestamp                          \n",
       "2018-07-11 04:00:00+00:00 -0.021993\n",
       "2018-07-12 04:00:00+00:00  0.001196\n",
       "2018-07-13 04:00:00+00:00  0.005974\n",
       "2018-07-16 04:00:00+00:00 -0.012589\n",
       "2018-07-17 04:00:00+00:00 -0.003608"
      ]
     },
     "execution_count": 96,
     "metadata": {},
     "output_type": "execute_result"
    }
   ],
   "source": [
    "# Calculate Daily Returns\n",
    "df_iye_returns = df_IYE.pct_change()\n",
    "# Drop nulls\n",
    "df_iye_returns.dropna(inplace = True)\n",
    "df_iye_returns.head()"
   ]
  },
  {
   "cell_type": "code",
   "execution_count": 97,
   "id": "87dc6a4c-c464-4e43-9ccc-2afd1956b8ad",
   "metadata": {},
   "outputs": [
    {
     "data": {
      "text/html": [
       "<div>\n",
       "<style scoped>\n",
       "    .dataframe tbody tr th:only-of-type {\n",
       "        vertical-align: middle;\n",
       "    }\n",
       "\n",
       "    .dataframe tbody tr th {\n",
       "        vertical-align: top;\n",
       "    }\n",
       "\n",
       "    .dataframe thead th {\n",
       "        text-align: right;\n",
       "    }\n",
       "</style>\n",
       "<table border=\"1\" class=\"dataframe\">\n",
       "  <thead>\n",
       "    <tr style=\"text-align: right;\">\n",
       "      <th></th>\n",
       "      <th>IYE</th>\n",
       "    </tr>\n",
       "    <tr>\n",
       "      <th>timestamp</th>\n",
       "      <th></th>\n",
       "    </tr>\n",
       "  </thead>\n",
       "  <tbody>\n",
       "    <tr>\n",
       "      <th>2018-07-11 04:00:00+00:00</th>\n",
       "      <td>-0.021993</td>\n",
       "    </tr>\n",
       "    <tr>\n",
       "      <th>2018-07-12 04:00:00+00:00</th>\n",
       "      <td>0.001196</td>\n",
       "    </tr>\n",
       "    <tr>\n",
       "      <th>2018-07-13 04:00:00+00:00</th>\n",
       "      <td>0.005974</td>\n",
       "    </tr>\n",
       "    <tr>\n",
       "      <th>2018-07-16 04:00:00+00:00</th>\n",
       "      <td>-0.012589</td>\n",
       "    </tr>\n",
       "    <tr>\n",
       "      <th>2018-07-17 04:00:00+00:00</th>\n",
       "      <td>-0.003608</td>\n",
       "    </tr>\n",
       "  </tbody>\n",
       "</table>\n",
       "</div>"
      ],
      "text/plain": [
       "                                IYE\n",
       "timestamp                          \n",
       "2018-07-11 04:00:00+00:00 -0.021993\n",
       "2018-07-12 04:00:00+00:00  0.001196\n",
       "2018-07-13 04:00:00+00:00  0.005974\n",
       "2018-07-16 04:00:00+00:00 -0.012589\n",
       "2018-07-17 04:00:00+00:00 -0.003608"
      ]
     },
     "execution_count": 97,
     "metadata": {},
     "output_type": "execute_result"
    }
   ],
   "source": [
    "# Rename `close` Column to be specific to this portfolio.\n",
    "df_iye_returns.rename(columns = {\"close\":\"IYE\"}, inplace = True)\n",
    "df_iye_returns.head()"
   ]
  },
  {
   "cell_type": "code",
   "execution_count": 98,
   "id": "04d7daee-3a9d-41e9-bbf6-6f00eecbceb1",
   "metadata": {},
   "outputs": [
    {
     "data": {
      "text/html": [
       "<div>\n",
       "<style scoped>\n",
       "    .dataframe tbody tr th:only-of-type {\n",
       "        vertical-align: middle;\n",
       "    }\n",
       "\n",
       "    .dataframe tbody tr th {\n",
       "        vertical-align: top;\n",
       "    }\n",
       "\n",
       "    .dataframe thead th {\n",
       "        text-align: right;\n",
       "    }\n",
       "</style>\n",
       "<table border=\"1\" class=\"dataframe\">\n",
       "  <thead>\n",
       "    <tr style=\"text-align: right;\">\n",
       "      <th></th>\n",
       "      <th>open</th>\n",
       "      <th>high</th>\n",
       "      <th>low</th>\n",
       "      <th>close</th>\n",
       "      <th>volume</th>\n",
       "      <th>trade_count</th>\n",
       "      <th>vwap</th>\n",
       "      <th>symbol</th>\n",
       "    </tr>\n",
       "    <tr>\n",
       "      <th>timestamp</th>\n",
       "      <th></th>\n",
       "      <th></th>\n",
       "      <th></th>\n",
       "      <th></th>\n",
       "      <th></th>\n",
       "      <th></th>\n",
       "      <th></th>\n",
       "      <th></th>\n",
       "    </tr>\n",
       "  </thead>\n",
       "  <tbody>\n",
       "    <tr>\n",
       "      <th>2022-07-11 04:00:00+00:00</th>\n",
       "      <td>218.13</td>\n",
       "      <td>220.62</td>\n",
       "      <td>214.9400</td>\n",
       "      <td>217.45</td>\n",
       "      <td>637899</td>\n",
       "      <td>9403</td>\n",
       "      <td>217.473957</td>\n",
       "      <td>OIH</td>\n",
       "    </tr>\n",
       "    <tr>\n",
       "      <th>2022-07-12 04:00:00+00:00</th>\n",
       "      <td>210.51</td>\n",
       "      <td>213.46</td>\n",
       "      <td>206.9500</td>\n",
       "      <td>209.64</td>\n",
       "      <td>1620997</td>\n",
       "      <td>20725</td>\n",
       "      <td>209.786024</td>\n",
       "      <td>OIH</td>\n",
       "    </tr>\n",
       "    <tr>\n",
       "      <th>2022-07-13 04:00:00+00:00</th>\n",
       "      <td>206.29</td>\n",
       "      <td>213.50</td>\n",
       "      <td>206.1900</td>\n",
       "      <td>207.95</td>\n",
       "      <td>760205</td>\n",
       "      <td>8609</td>\n",
       "      <td>209.067824</td>\n",
       "      <td>OIH</td>\n",
       "    </tr>\n",
       "    <tr>\n",
       "      <th>2022-07-14 04:00:00+00:00</th>\n",
       "      <td>198.90</td>\n",
       "      <td>201.64</td>\n",
       "      <td>195.7700</td>\n",
       "      <td>201.04</td>\n",
       "      <td>900018</td>\n",
       "      <td>13686</td>\n",
       "      <td>199.189745</td>\n",
       "      <td>OIH</td>\n",
       "    </tr>\n",
       "    <tr>\n",
       "      <th>2022-07-15 04:00:00+00:00</th>\n",
       "      <td>205.83</td>\n",
       "      <td>206.39</td>\n",
       "      <td>199.9601</td>\n",
       "      <td>205.41</td>\n",
       "      <td>720555</td>\n",
       "      <td>9327</td>\n",
       "      <td>203.480363</td>\n",
       "      <td>OIH</td>\n",
       "    </tr>\n",
       "  </tbody>\n",
       "</table>\n",
       "</div>"
      ],
      "text/plain": [
       "                             open    high       low   close   volume  \\\n",
       "timestamp                                                              \n",
       "2022-07-11 04:00:00+00:00  218.13  220.62  214.9400  217.45   637899   \n",
       "2022-07-12 04:00:00+00:00  210.51  213.46  206.9500  209.64  1620997   \n",
       "2022-07-13 04:00:00+00:00  206.29  213.50  206.1900  207.95   760205   \n",
       "2022-07-14 04:00:00+00:00  198.90  201.64  195.7700  201.04   900018   \n",
       "2022-07-15 04:00:00+00:00  205.83  206.39  199.9601  205.41   720555   \n",
       "\n",
       "                           trade_count        vwap symbol  \n",
       "timestamp                                                  \n",
       "2022-07-11 04:00:00+00:00         9403  217.473957    OIH  \n",
       "2022-07-12 04:00:00+00:00        20725  209.786024    OIH  \n",
       "2022-07-13 04:00:00+00:00         8609  209.067824    OIH  \n",
       "2022-07-14 04:00:00+00:00        13686  199.189745    OIH  \n",
       "2022-07-15 04:00:00+00:00         9327  203.480363    OIH  "
      ]
     },
     "execution_count": 98,
     "metadata": {},
     "output_type": "execute_result"
    }
   ],
   "source": [
    "# Format current date as ISO format\n",
    "start_date = pd.Timestamp(\"2022-7-10\", tz=\"America/New_York\").isoformat()\n",
    "end_date = pd.Timestamp(\"2023-7-10\", tz=\"America/New_York\").isoformat()\n",
    "# Set the tickers\n",
    "tickers = [\"OIH\"]\n",
    "# Set timeframe to \"1Day\" for Alpaca API\n",
    "timeframe = \"1Day\"\n",
    "# Get current closing prices for SPY and AGG\n",
    "df_oih = alpaca.get_bars(\n",
    "    tickers,\n",
    "    timeframe,\n",
    "    start = start_date,\n",
    "    end = end_date,\n",
    ").df\n",
    "# Reorganize the DataFrame\n",
    "# Separate ticker data\n",
    "# YOUR CODE HERE!\n",
    "OIH = df_oih[df_oih['symbol']=='OIH'].drop('symbol', axis=1)\n",
    "# Preview DataFrame\n",
    "df_oih.head()"
   ]
  },
  {
   "cell_type": "code",
   "execution_count": 99,
   "id": "c5c1145a-8e6d-4f96-893b-98cbd1dc5859",
   "metadata": {},
   "outputs": [
    {
     "data": {
      "text/html": [
       "<div>\n",
       "<style scoped>\n",
       "    .dataframe tbody tr th:only-of-type {\n",
       "        vertical-align: middle;\n",
       "    }\n",
       "\n",
       "    .dataframe tbody tr th {\n",
       "        vertical-align: top;\n",
       "    }\n",
       "\n",
       "    .dataframe thead th {\n",
       "        text-align: right;\n",
       "    }\n",
       "</style>\n",
       "<table border=\"1\" class=\"dataframe\">\n",
       "  <thead>\n",
       "    <tr style=\"text-align: right;\">\n",
       "      <th></th>\n",
       "      <th>close</th>\n",
       "    </tr>\n",
       "    <tr>\n",
       "      <th>timestamp</th>\n",
       "      <th></th>\n",
       "    </tr>\n",
       "  </thead>\n",
       "  <tbody>\n",
       "    <tr>\n",
       "      <th>2022-07-11 04:00:00+00:00</th>\n",
       "      <td>217.45</td>\n",
       "    </tr>\n",
       "    <tr>\n",
       "      <th>2022-07-12 04:00:00+00:00</th>\n",
       "      <td>209.64</td>\n",
       "    </tr>\n",
       "    <tr>\n",
       "      <th>2022-07-13 04:00:00+00:00</th>\n",
       "      <td>207.95</td>\n",
       "    </tr>\n",
       "    <tr>\n",
       "      <th>2022-07-14 04:00:00+00:00</th>\n",
       "      <td>201.04</td>\n",
       "    </tr>\n",
       "    <tr>\n",
       "      <th>2022-07-15 04:00:00+00:00</th>\n",
       "      <td>205.41</td>\n",
       "    </tr>\n",
       "  </tbody>\n",
       "</table>\n",
       "</div>"
      ],
      "text/plain": [
       "                            close\n",
       "timestamp                        \n",
       "2022-07-11 04:00:00+00:00  217.45\n",
       "2022-07-12 04:00:00+00:00  209.64\n",
       "2022-07-13 04:00:00+00:00  207.95\n",
       "2022-07-14 04:00:00+00:00  201.04\n",
       "2022-07-15 04:00:00+00:00  205.41"
      ]
     },
     "execution_count": 99,
     "metadata": {},
     "output_type": "execute_result"
    }
   ],
   "source": [
    "#drop columns\n",
    "df_oih = df_oih.drop(columns=[\"open\", \"high\", \"low\", \"volume\", \"trade_count\", \"vwap\", \"symbol\"])\n",
    "df_oih.head()"
   ]
  },
  {
   "cell_type": "code",
   "execution_count": 100,
   "id": "7438b819-1c04-4a54-bf61-ca3c3bbddbd6",
   "metadata": {},
   "outputs": [
    {
     "data": {
      "text/html": [
       "<div>\n",
       "<style scoped>\n",
       "    .dataframe tbody tr th:only-of-type {\n",
       "        vertical-align: middle;\n",
       "    }\n",
       "\n",
       "    .dataframe tbody tr th {\n",
       "        vertical-align: top;\n",
       "    }\n",
       "\n",
       "    .dataframe thead th {\n",
       "        text-align: right;\n",
       "    }\n",
       "</style>\n",
       "<table border=\"1\" class=\"dataframe\">\n",
       "  <thead>\n",
       "    <tr style=\"text-align: right;\">\n",
       "      <th></th>\n",
       "      <th>close</th>\n",
       "    </tr>\n",
       "    <tr>\n",
       "      <th>timestamp</th>\n",
       "      <th></th>\n",
       "    </tr>\n",
       "  </thead>\n",
       "  <tbody>\n",
       "    <tr>\n",
       "      <th>2022-07-11 04:00:00+00:00</th>\n",
       "      <td>NaN</td>\n",
       "    </tr>\n",
       "    <tr>\n",
       "      <th>2022-07-12 04:00:00+00:00</th>\n",
       "      <td>-0.035916</td>\n",
       "    </tr>\n",
       "    <tr>\n",
       "      <th>2022-07-13 04:00:00+00:00</th>\n",
       "      <td>-0.008061</td>\n",
       "    </tr>\n",
       "    <tr>\n",
       "      <th>2022-07-14 04:00:00+00:00</th>\n",
       "      <td>-0.033229</td>\n",
       "    </tr>\n",
       "    <tr>\n",
       "      <th>2022-07-15 04:00:00+00:00</th>\n",
       "      <td>0.021737</td>\n",
       "    </tr>\n",
       "  </tbody>\n",
       "</table>\n",
       "</div>"
      ],
      "text/plain": [
       "                              close\n",
       "timestamp                          \n",
       "2022-07-11 04:00:00+00:00       NaN\n",
       "2022-07-12 04:00:00+00:00 -0.035916\n",
       "2022-07-13 04:00:00+00:00 -0.008061\n",
       "2022-07-14 04:00:00+00:00 -0.033229\n",
       "2022-07-15 04:00:00+00:00  0.021737"
      ]
     },
     "execution_count": 100,
     "metadata": {},
     "output_type": "execute_result"
    }
   ],
   "source": [
    "# Calculate Daily Returns\n",
    "df_oih_returns = df_oih.pct_change()\n",
    "df_oih_returns.head()"
   ]
  },
  {
   "cell_type": "code",
   "execution_count": 101,
   "id": "e7b2177d-ac82-417b-8653-0e0f92e47762",
   "metadata": {},
   "outputs": [
    {
     "data": {
      "text/html": [
       "<div>\n",
       "<style scoped>\n",
       "    .dataframe tbody tr th:only-of-type {\n",
       "        vertical-align: middle;\n",
       "    }\n",
       "\n",
       "    .dataframe tbody tr th {\n",
       "        vertical-align: top;\n",
       "    }\n",
       "\n",
       "    .dataframe thead th {\n",
       "        text-align: right;\n",
       "    }\n",
       "</style>\n",
       "<table border=\"1\" class=\"dataframe\">\n",
       "  <thead>\n",
       "    <tr style=\"text-align: right;\">\n",
       "      <th></th>\n",
       "      <th>close</th>\n",
       "    </tr>\n",
       "    <tr>\n",
       "      <th>timestamp</th>\n",
       "      <th></th>\n",
       "    </tr>\n",
       "  </thead>\n",
       "  <tbody>\n",
       "    <tr>\n",
       "      <th>2022-07-12 04:00:00+00:00</th>\n",
       "      <td>-0.035916</td>\n",
       "    </tr>\n",
       "    <tr>\n",
       "      <th>2022-07-13 04:00:00+00:00</th>\n",
       "      <td>-0.008061</td>\n",
       "    </tr>\n",
       "    <tr>\n",
       "      <th>2022-07-14 04:00:00+00:00</th>\n",
       "      <td>-0.033229</td>\n",
       "    </tr>\n",
       "    <tr>\n",
       "      <th>2022-07-15 04:00:00+00:00</th>\n",
       "      <td>0.021737</td>\n",
       "    </tr>\n",
       "    <tr>\n",
       "      <th>2022-07-18 04:00:00+00:00</th>\n",
       "      <td>0.040796</td>\n",
       "    </tr>\n",
       "  </tbody>\n",
       "</table>\n",
       "</div>"
      ],
      "text/plain": [
       "                              close\n",
       "timestamp                          \n",
       "2022-07-12 04:00:00+00:00 -0.035916\n",
       "2022-07-13 04:00:00+00:00 -0.008061\n",
       "2022-07-14 04:00:00+00:00 -0.033229\n",
       "2022-07-15 04:00:00+00:00  0.021737\n",
       "2022-07-18 04:00:00+00:00  0.040796"
      ]
     },
     "execution_count": 101,
     "metadata": {},
     "output_type": "execute_result"
    }
   ],
   "source": [
    "#drop nulls\n",
    "df_oih_returns.dropna(inplace=True)\n",
    "df_oih_returns.head()"
   ]
  },
  {
   "cell_type": "code",
   "execution_count": 102,
   "id": "02a19ca0-482d-44d3-a1f8-1d0377565cbc",
   "metadata": {},
   "outputs": [
    {
     "data": {
      "text/html": [
       "<div>\n",
       "<style scoped>\n",
       "    .dataframe tbody tr th:only-of-type {\n",
       "        vertical-align: middle;\n",
       "    }\n",
       "\n",
       "    .dataframe tbody tr th {\n",
       "        vertical-align: top;\n",
       "    }\n",
       "\n",
       "    .dataframe thead th {\n",
       "        text-align: right;\n",
       "    }\n",
       "</style>\n",
       "<table border=\"1\" class=\"dataframe\">\n",
       "  <thead>\n",
       "    <tr style=\"text-align: right;\">\n",
       "      <th></th>\n",
       "      <th>OIH</th>\n",
       "    </tr>\n",
       "    <tr>\n",
       "      <th>timestamp</th>\n",
       "      <th></th>\n",
       "    </tr>\n",
       "  </thead>\n",
       "  <tbody>\n",
       "    <tr>\n",
       "      <th>2022-07-12 04:00:00+00:00</th>\n",
       "      <td>-0.035916</td>\n",
       "    </tr>\n",
       "    <tr>\n",
       "      <th>2022-07-13 04:00:00+00:00</th>\n",
       "      <td>-0.008061</td>\n",
       "    </tr>\n",
       "    <tr>\n",
       "      <th>2022-07-14 04:00:00+00:00</th>\n",
       "      <td>-0.033229</td>\n",
       "    </tr>\n",
       "    <tr>\n",
       "      <th>2022-07-15 04:00:00+00:00</th>\n",
       "      <td>0.021737</td>\n",
       "    </tr>\n",
       "    <tr>\n",
       "      <th>2022-07-18 04:00:00+00:00</th>\n",
       "      <td>0.040796</td>\n",
       "    </tr>\n",
       "  </tbody>\n",
       "</table>\n",
       "</div>"
      ],
      "text/plain": [
       "                                OIH\n",
       "timestamp                          \n",
       "2022-07-12 04:00:00+00:00 -0.035916\n",
       "2022-07-13 04:00:00+00:00 -0.008061\n",
       "2022-07-14 04:00:00+00:00 -0.033229\n",
       "2022-07-15 04:00:00+00:00  0.021737\n",
       "2022-07-18 04:00:00+00:00  0.040796"
      ]
     },
     "execution_count": 102,
     "metadata": {},
     "output_type": "execute_result"
    }
   ],
   "source": [
    "#rename close column to OIH ticker\n",
    "df_oih_returns.rename(columns={\"close\":\"OIH\"}, inplace=True)\n",
    "df_oih_returns.head()"
   ]
  },
  {
   "cell_type": "code",
   "execution_count": 103,
   "id": "fcc00270-0797-4dac-a1ad-704b2bddda5b",
   "metadata": {},
   "outputs": [
    {
     "data": {
      "text/html": [
       "<div>\n",
       "<style scoped>\n",
       "    .dataframe tbody tr th:only-of-type {\n",
       "        vertical-align: middle;\n",
       "    }\n",
       "\n",
       "    .dataframe tbody tr th {\n",
       "        vertical-align: top;\n",
       "    }\n",
       "\n",
       "    .dataframe thead th {\n",
       "        text-align: right;\n",
       "    }\n",
       "</style>\n",
       "<table border=\"1\" class=\"dataframe\">\n",
       "  <thead>\n",
       "    <tr style=\"text-align: right;\">\n",
       "      <th></th>\n",
       "      <th>open</th>\n",
       "      <th>high</th>\n",
       "      <th>low</th>\n",
       "      <th>close</th>\n",
       "      <th>volume</th>\n",
       "      <th>trade_count</th>\n",
       "      <th>vwap</th>\n",
       "      <th>symbol</th>\n",
       "    </tr>\n",
       "    <tr>\n",
       "      <th>timestamp</th>\n",
       "      <th></th>\n",
       "      <th></th>\n",
       "      <th></th>\n",
       "      <th></th>\n",
       "      <th></th>\n",
       "      <th></th>\n",
       "      <th></th>\n",
       "      <th></th>\n",
       "    </tr>\n",
       "  </thead>\n",
       "  <tbody>\n",
       "    <tr>\n",
       "      <th>2022-07-11 04:00:00+00:00</th>\n",
       "      <td>42.33</td>\n",
       "      <td>42.94</td>\n",
       "      <td>42.02</td>\n",
       "      <td>42.25</td>\n",
       "      <td>2944477</td>\n",
       "      <td>26242</td>\n",
       "      <td>42.367957</td>\n",
       "      <td>XME</td>\n",
       "    </tr>\n",
       "    <tr>\n",
       "      <th>2022-07-12 04:00:00+00:00</th>\n",
       "      <td>41.91</td>\n",
       "      <td>43.36</td>\n",
       "      <td>41.62</td>\n",
       "      <td>42.45</td>\n",
       "      <td>3262254</td>\n",
       "      <td>32031</td>\n",
       "      <td>42.582558</td>\n",
       "      <td>XME</td>\n",
       "    </tr>\n",
       "    <tr>\n",
       "      <th>2022-07-13 04:00:00+00:00</th>\n",
       "      <td>41.98</td>\n",
       "      <td>43.76</td>\n",
       "      <td>41.90</td>\n",
       "      <td>43.37</td>\n",
       "      <td>3873714</td>\n",
       "      <td>33825</td>\n",
       "      <td>43.110836</td>\n",
       "      <td>XME</td>\n",
       "    </tr>\n",
       "    <tr>\n",
       "      <th>2022-07-14 04:00:00+00:00</th>\n",
       "      <td>41.96</td>\n",
       "      <td>42.15</td>\n",
       "      <td>41.09</td>\n",
       "      <td>42.09</td>\n",
       "      <td>7555956</td>\n",
       "      <td>52072</td>\n",
       "      <td>41.556745</td>\n",
       "      <td>XME</td>\n",
       "    </tr>\n",
       "    <tr>\n",
       "      <th>2022-07-15 04:00:00+00:00</th>\n",
       "      <td>42.89</td>\n",
       "      <td>42.98</td>\n",
       "      <td>41.61</td>\n",
       "      <td>42.91</td>\n",
       "      <td>2975824</td>\n",
       "      <td>27581</td>\n",
       "      <td>42.492866</td>\n",
       "      <td>XME</td>\n",
       "    </tr>\n",
       "  </tbody>\n",
       "</table>\n",
       "</div>"
      ],
      "text/plain": [
       "                            open   high    low  close   volume  trade_count  \\\n",
       "timestamp                                                                     \n",
       "2022-07-11 04:00:00+00:00  42.33  42.94  42.02  42.25  2944477        26242   \n",
       "2022-07-12 04:00:00+00:00  41.91  43.36  41.62  42.45  3262254        32031   \n",
       "2022-07-13 04:00:00+00:00  41.98  43.76  41.90  43.37  3873714        33825   \n",
       "2022-07-14 04:00:00+00:00  41.96  42.15  41.09  42.09  7555956        52072   \n",
       "2022-07-15 04:00:00+00:00  42.89  42.98  41.61  42.91  2975824        27581   \n",
       "\n",
       "                                vwap symbol  \n",
       "timestamp                                    \n",
       "2022-07-11 04:00:00+00:00  42.367957    XME  \n",
       "2022-07-12 04:00:00+00:00  42.582558    XME  \n",
       "2022-07-13 04:00:00+00:00  43.110836    XME  \n",
       "2022-07-14 04:00:00+00:00  41.556745    XME  \n",
       "2022-07-15 04:00:00+00:00  42.492866    XME  "
      ]
     },
     "execution_count": 103,
     "metadata": {},
     "output_type": "execute_result"
    }
   ],
   "source": [
    "# Format current date as ISO format\n",
    "start = pd.Timestamp('2022-07-10', tz = 'America/New_York').isoformat()\n",
    "end = pd.Timestamp('2023-07-10', tz = 'America/New_York').isoformat()\n",
    "# Set the tickers\n",
    "tickers = ['XME']\n",
    "# Set timeframe for Alpaca API\n",
    "timeframe = \"1Day\"\n",
    "# Get current closing prices for SPY and AGG\n",
    "df_xme = alpaca.get_bars(\n",
    "    tickers,\n",
    "    timeframe,\n",
    "    start = start,\n",
    "    end = end\n",
    ").df\n",
    "# Reorganize the DataFrame\n",
    "# Separate ticker data\n",
    "XME = df_xme[df_xme['symbol']=='XME'].drop('symbol', axis = 1)\n",
    "# Preview DataFrame\n",
    "df_xme.head()"
   ]
  },
  {
   "cell_type": "code",
   "execution_count": 104,
   "id": "7ef078c8-2693-495f-b308-1cb3a2172173",
   "metadata": {},
   "outputs": [
    {
     "data": {
      "text/html": [
       "<div>\n",
       "<style scoped>\n",
       "    .dataframe tbody tr th:only-of-type {\n",
       "        vertical-align: middle;\n",
       "    }\n",
       "\n",
       "    .dataframe tbody tr th {\n",
       "        vertical-align: top;\n",
       "    }\n",
       "\n",
       "    .dataframe thead th {\n",
       "        text-align: right;\n",
       "    }\n",
       "</style>\n",
       "<table border=\"1\" class=\"dataframe\">\n",
       "  <thead>\n",
       "    <tr style=\"text-align: right;\">\n",
       "      <th></th>\n",
       "      <th>close</th>\n",
       "    </tr>\n",
       "    <tr>\n",
       "      <th>timestamp</th>\n",
       "      <th></th>\n",
       "    </tr>\n",
       "  </thead>\n",
       "  <tbody>\n",
       "    <tr>\n",
       "      <th>2022-07-11 04:00:00+00:00</th>\n",
       "      <td>42.25</td>\n",
       "    </tr>\n",
       "    <tr>\n",
       "      <th>2022-07-12 04:00:00+00:00</th>\n",
       "      <td>42.45</td>\n",
       "    </tr>\n",
       "    <tr>\n",
       "      <th>2022-07-13 04:00:00+00:00</th>\n",
       "      <td>43.37</td>\n",
       "    </tr>\n",
       "    <tr>\n",
       "      <th>2022-07-14 04:00:00+00:00</th>\n",
       "      <td>42.09</td>\n",
       "    </tr>\n",
       "    <tr>\n",
       "      <th>2022-07-15 04:00:00+00:00</th>\n",
       "      <td>42.91</td>\n",
       "    </tr>\n",
       "  </tbody>\n",
       "</table>\n",
       "</div>"
      ],
      "text/plain": [
       "                           close\n",
       "timestamp                       \n",
       "2022-07-11 04:00:00+00:00  42.25\n",
       "2022-07-12 04:00:00+00:00  42.45\n",
       "2022-07-13 04:00:00+00:00  43.37\n",
       "2022-07-14 04:00:00+00:00  42.09\n",
       "2022-07-15 04:00:00+00:00  42.91"
      ]
     },
     "execution_count": 104,
     "metadata": {},
     "output_type": "execute_result"
    }
   ],
   "source": [
    "# Drop columns\n",
    "df_xme = df_xme.drop(columns = ['open', 'high', 'low', 'volume', 'trade_count', 'vwap', 'symbol'])\n",
    "df_xme.head()"
   ]
  },
  {
   "cell_type": "code",
   "execution_count": 105,
   "id": "074fdd4c-7ea6-4f17-a824-ec9fc2e4b932",
   "metadata": {},
   "outputs": [
    {
     "data": {
      "text/html": [
       "<div>\n",
       "<style scoped>\n",
       "    .dataframe tbody tr th:only-of-type {\n",
       "        vertical-align: middle;\n",
       "    }\n",
       "\n",
       "    .dataframe tbody tr th {\n",
       "        vertical-align: top;\n",
       "    }\n",
       "\n",
       "    .dataframe thead th {\n",
       "        text-align: right;\n",
       "    }\n",
       "</style>\n",
       "<table border=\"1\" class=\"dataframe\">\n",
       "  <thead>\n",
       "    <tr style=\"text-align: right;\">\n",
       "      <th></th>\n",
       "      <th>close</th>\n",
       "    </tr>\n",
       "    <tr>\n",
       "      <th>timestamp</th>\n",
       "      <th></th>\n",
       "    </tr>\n",
       "  </thead>\n",
       "  <tbody>\n",
       "    <tr>\n",
       "      <th>2022-07-12 04:00:00+00:00</th>\n",
       "      <td>0.004734</td>\n",
       "    </tr>\n",
       "    <tr>\n",
       "      <th>2022-07-13 04:00:00+00:00</th>\n",
       "      <td>0.021673</td>\n",
       "    </tr>\n",
       "    <tr>\n",
       "      <th>2022-07-14 04:00:00+00:00</th>\n",
       "      <td>-0.029513</td>\n",
       "    </tr>\n",
       "    <tr>\n",
       "      <th>2022-07-15 04:00:00+00:00</th>\n",
       "      <td>0.019482</td>\n",
       "    </tr>\n",
       "    <tr>\n",
       "      <th>2022-07-18 04:00:00+00:00</th>\n",
       "      <td>0.016779</td>\n",
       "    </tr>\n",
       "  </tbody>\n",
       "</table>\n",
       "</div>"
      ],
      "text/plain": [
       "                              close\n",
       "timestamp                          \n",
       "2022-07-12 04:00:00+00:00  0.004734\n",
       "2022-07-13 04:00:00+00:00  0.021673\n",
       "2022-07-14 04:00:00+00:00 -0.029513\n",
       "2022-07-15 04:00:00+00:00  0.019482\n",
       "2022-07-18 04:00:00+00:00  0.016779"
      ]
     },
     "execution_count": 105,
     "metadata": {},
     "output_type": "execute_result"
    }
   ],
   "source": [
    "# Calculate Daily Returns\n",
    "df_xme_returns = df_xme.pct_change()\n",
    "# Drop nulls\n",
    "df_xme_returns = df_xme_returns.dropna()\n",
    "df_xme_returns.head()"
   ]
  },
  {
   "cell_type": "code",
   "execution_count": 106,
   "id": "13f02a6a-c2e4-4491-83e6-4874cd736ab1",
   "metadata": {},
   "outputs": [
    {
     "data": {
      "text/html": [
       "<div>\n",
       "<style scoped>\n",
       "    .dataframe tbody tr th:only-of-type {\n",
       "        vertical-align: middle;\n",
       "    }\n",
       "\n",
       "    .dataframe tbody tr th {\n",
       "        vertical-align: top;\n",
       "    }\n",
       "\n",
       "    .dataframe thead th {\n",
       "        text-align: right;\n",
       "    }\n",
       "</style>\n",
       "<table border=\"1\" class=\"dataframe\">\n",
       "  <thead>\n",
       "    <tr style=\"text-align: right;\">\n",
       "      <th></th>\n",
       "      <th>XME</th>\n",
       "    </tr>\n",
       "    <tr>\n",
       "      <th>timestamp</th>\n",
       "      <th></th>\n",
       "    </tr>\n",
       "  </thead>\n",
       "  <tbody>\n",
       "    <tr>\n",
       "      <th>2022-07-12 04:00:00+00:00</th>\n",
       "      <td>0.004734</td>\n",
       "    </tr>\n",
       "    <tr>\n",
       "      <th>2022-07-13 04:00:00+00:00</th>\n",
       "      <td>0.021673</td>\n",
       "    </tr>\n",
       "    <tr>\n",
       "      <th>2022-07-14 04:00:00+00:00</th>\n",
       "      <td>-0.029513</td>\n",
       "    </tr>\n",
       "    <tr>\n",
       "      <th>2022-07-15 04:00:00+00:00</th>\n",
       "      <td>0.019482</td>\n",
       "    </tr>\n",
       "    <tr>\n",
       "      <th>2022-07-18 04:00:00+00:00</th>\n",
       "      <td>0.016779</td>\n",
       "    </tr>\n",
       "  </tbody>\n",
       "</table>\n",
       "</div>"
      ],
      "text/plain": [
       "                                XME\n",
       "timestamp                          \n",
       "2022-07-12 04:00:00+00:00  0.004734\n",
       "2022-07-13 04:00:00+00:00  0.021673\n",
       "2022-07-14 04:00:00+00:00 -0.029513\n",
       "2022-07-15 04:00:00+00:00  0.019482\n",
       "2022-07-18 04:00:00+00:00  0.016779"
      ]
     },
     "execution_count": 106,
     "metadata": {},
     "output_type": "execute_result"
    }
   ],
   "source": [
    "# Rename `close` Column to XME ticker.\n",
    "df_xme_returns.rename(columns = {'close': 'XME'}, inplace = True)\n",
    "df_xme_returns.head()"
   ]
  },
  {
   "cell_type": "code",
   "execution_count": 107,
   "id": "2f2aff90-5590-452f-b761-2e5047730ab9",
   "metadata": {},
   "outputs": [
    {
     "data": {
      "text/html": [
       "<div>\n",
       "<style scoped>\n",
       "    .dataframe tbody tr th:only-of-type {\n",
       "        vertical-align: middle;\n",
       "    }\n",
       "\n",
       "    .dataframe tbody tr th {\n",
       "        vertical-align: top;\n",
       "    }\n",
       "\n",
       "    .dataframe thead th {\n",
       "        text-align: right;\n",
       "    }\n",
       "</style>\n",
       "<table border=\"1\" class=\"dataframe\">\n",
       "  <thead>\n",
       "    <tr style=\"text-align: right;\">\n",
       "      <th></th>\n",
       "      <th>IYE</th>\n",
       "      <th>OIH</th>\n",
       "      <th>XME</th>\n",
       "    </tr>\n",
       "    <tr>\n",
       "      <th>timestamp</th>\n",
       "      <th></th>\n",
       "      <th></th>\n",
       "      <th></th>\n",
       "    </tr>\n",
       "  </thead>\n",
       "  <tbody>\n",
       "    <tr>\n",
       "      <th>2022-07-12 04:00:00+00:00</th>\n",
       "      <td>-0.020550</td>\n",
       "      <td>-0.035916</td>\n",
       "      <td>0.004734</td>\n",
       "    </tr>\n",
       "    <tr>\n",
       "      <th>2022-07-13 04:00:00+00:00</th>\n",
       "      <td>0.000272</td>\n",
       "      <td>-0.008061</td>\n",
       "      <td>0.021673</td>\n",
       "    </tr>\n",
       "    <tr>\n",
       "      <th>2022-07-14 04:00:00+00:00</th>\n",
       "      <td>-0.017434</td>\n",
       "      <td>-0.033229</td>\n",
       "      <td>-0.029513</td>\n",
       "    </tr>\n",
       "    <tr>\n",
       "      <th>2022-07-15 04:00:00+00:00</th>\n",
       "      <td>0.016912</td>\n",
       "      <td>0.021737</td>\n",
       "      <td>0.019482</td>\n",
       "    </tr>\n",
       "    <tr>\n",
       "      <th>2022-07-18 04:00:00+00:00</th>\n",
       "      <td>0.021538</td>\n",
       "      <td>0.040796</td>\n",
       "      <td>0.016779</td>\n",
       "    </tr>\n",
       "  </tbody>\n",
       "</table>\n",
       "</div>"
      ],
      "text/plain": [
       "                                IYE       OIH       XME\n",
       "timestamp                                              \n",
       "2022-07-12 04:00:00+00:00 -0.020550 -0.035916  0.004734\n",
       "2022-07-13 04:00:00+00:00  0.000272 -0.008061  0.021673\n",
       "2022-07-14 04:00:00+00:00 -0.017434 -0.033229 -0.029513\n",
       "2022-07-15 04:00:00+00:00  0.016912  0.021737  0.019482\n",
       "2022-07-18 04:00:00+00:00  0.021538  0.040796  0.016779"
      ]
     },
     "execution_count": 107,
     "metadata": {},
     "output_type": "execute_result"
    }
   ],
   "source": [
    "# Join IYE, OIH, and the XME Returns into a single DataFrame with columns for each portfolio's returns.\n",
    "df_daily = pd.concat([df_iye_returns, df_oih_returns, df_xme_returns], axis = \"columns\",join = \"inner\")\n",
    "df_daily.head()"
   ]
  },
  {
   "cell_type": "code",
   "execution_count": 108,
   "id": "b6de3588-9d6b-4c25-8368-50956b2dc1f8",
   "metadata": {},
   "outputs": [
    {
     "data": {},
     "metadata": {},
     "output_type": "display_data"
    },
    {
     "data": {
      "application/vnd.holoviews_exec.v0+json": "",
      "text/html": [
       "<div id='3408'>\n",
       "  <div class=\"bk-root\" id=\"25ab3cec-852b-4e09-bab1-2547e358e3b2\" data-root-id=\"3408\"></div>\n",
       "</div>\n",
       "<script type=\"application/javascript\">(function(root) {\n",
       "  function embed_document(root) {\n",
       "    var docs_json = {\"fcf3db70-652c-4842-8723-838ffc068ae8\":{\"defs\":[{\"extends\":null,\"module\":null,\"name\":\"ReactiveHTML1\",\"overrides\":[],\"properties\":[]},{\"extends\":null,\"module\":null,\"name\":\"FlexBox1\",\"overrides\":[],\"properties\":[{\"default\":\"flex-start\",\"kind\":null,\"name\":\"align_content\"},{\"default\":\"flex-start\",\"kind\":null,\"name\":\"align_items\"},{\"default\":\"row\",\"kind\":null,\"name\":\"flex_direction\"},{\"default\":\"wrap\",\"kind\":null,\"name\":\"flex_wrap\"},{\"default\":\"flex-start\",\"kind\":null,\"name\":\"justify_content\"}]},{\"extends\":null,\"module\":null,\"name\":\"GridStack1\",\"overrides\":[],\"properties\":[{\"default\":\"warn\",\"kind\":null,\"name\":\"mode\"},{\"default\":null,\"kind\":null,\"name\":\"ncols\"},{\"default\":null,\"kind\":null,\"name\":\"nrows\"},{\"default\":true,\"kind\":null,\"name\":\"allow_resize\"},{\"default\":true,\"kind\":null,\"name\":\"allow_drag\"},{\"default\":[],\"kind\":null,\"name\":\"state\"}]},{\"extends\":null,\"module\":null,\"name\":\"click1\",\"overrides\":[],\"properties\":[{\"default\":\"\",\"kind\":null,\"name\":\"terminal_output\"},{\"default\":\"\",\"kind\":null,\"name\":\"debug_name\"},{\"default\":0,\"kind\":null,\"name\":\"clears\"}]},{\"extends\":null,\"module\":null,\"name\":\"NotificationAreaBase1\",\"overrides\":[],\"properties\":[{\"default\":\"bottom-right\",\"kind\":null,\"name\":\"position\"},{\"default\":0,\"kind\":null,\"name\":\"_clear\"}]},{\"extends\":null,\"module\":null,\"name\":\"NotificationArea1\",\"overrides\":[],\"properties\":[{\"default\":[],\"kind\":null,\"name\":\"notifications\"},{\"default\":\"bottom-right\",\"kind\":null,\"name\":\"position\"},{\"default\":0,\"kind\":null,\"name\":\"_clear\"},{\"default\":[{\"background\":\"#ffc107\",\"icon\":{\"className\":\"fas fa-exclamation-triangle\",\"color\":\"white\",\"tagName\":\"i\"},\"type\":\"warning\"},{\"background\":\"#007bff\",\"icon\":{\"className\":\"fas fa-info-circle\",\"color\":\"white\",\"tagName\":\"i\"},\"type\":\"info\"}],\"kind\":null,\"name\":\"types\"}]},{\"extends\":null,\"module\":null,\"name\":\"Notification\",\"overrides\":[],\"properties\":[{\"default\":null,\"kind\":null,\"name\":\"background\"},{\"default\":3000,\"kind\":null,\"name\":\"duration\"},{\"default\":null,\"kind\":null,\"name\":\"icon\"},{\"default\":\"\",\"kind\":null,\"name\":\"message\"},{\"default\":null,\"kind\":null,\"name\":\"notification_type\"},{\"default\":false,\"kind\":null,\"name\":\"_destroyed\"}]},{\"extends\":null,\"module\":null,\"name\":\"TemplateActions1\",\"overrides\":[],\"properties\":[{\"default\":0,\"kind\":null,\"name\":\"open_modal\"},{\"default\":0,\"kind\":null,\"name\":\"close_modal\"}]},{\"extends\":null,\"module\":null,\"name\":\"MaterialTemplateActions1\",\"overrides\":[],\"properties\":[{\"default\":0,\"kind\":null,\"name\":\"open_modal\"},{\"default\":0,\"kind\":null,\"name\":\"close_modal\"}]}],\"roots\":{\"references\":[{\"attributes\":{\"end\":0.08838051894342386,\"reset_end\":0.08838051894342386,\"reset_start\":-0.10295994390140845,\"start\":-0.10295994390140845,\"tags\":[[[\"value\",\"value\",null]]]},\"id\":\"3410\",\"type\":\"Range1d\"},{\"attributes\":{\"active_drag\":{\"id\":\"3432\"},\"active_scroll\":{\"id\":\"3433\"},\"tools\":[{\"id\":\"3411\"},{\"id\":\"3431\"},{\"id\":\"3432\"},{\"id\":\"3433\"},{\"id\":\"3434\"},{\"id\":\"3435\"}]},\"id\":\"3437\",\"type\":\"Toolbar\"},{\"attributes\":{\"end\":1688961600000.0,\"reset_end\":1688961600000.0,\"reset_start\":1657598400000.0,\"start\":1657598400000.0,\"tags\":[[[\"timestamp\",\"timestamp\",null]]]},\"id\":\"3409\",\"type\":\"Range1d\"},{\"attributes\":{},\"id\":\"3432\",\"type\":\"PanTool\"},{\"attributes\":{\"days\":[1,4,7,10,13,16,19,22,25,28]},\"id\":\"3474\",\"type\":\"DaysTicker\"},{\"attributes\":{\"above\":[{\"id\":\"3482\"}],\"below\":[{\"id\":\"3423\"}],\"center\":[{\"id\":\"3426\"},{\"id\":\"3430\"}],\"height\":500,\"left\":[{\"id\":\"3427\"}],\"margin\":[5,5,5,5],\"min_border_bottom\":10,\"min_border_left\":10,\"min_border_right\":10,\"min_border_top\":10,\"output_backend\":\"webgl\",\"renderers\":[{\"id\":\"3459\"},{\"id\":\"3491\"},{\"id\":\"3524\"}],\"sizing_mode\":\"fixed\",\"title\":{\"id\":\"3415\"},\"toolbar\":{\"id\":\"3437\"},\"width\":700,\"x_range\":{\"id\":\"3409\"},\"x_scale\":{\"id\":\"3419\"},\"y_range\":{\"id\":\"3410\"},\"y_scale\":{\"id\":\"3421\"}},\"id\":\"3414\",\"subtype\":\"Figure\",\"type\":\"Plot\"},{\"attributes\":{\"days\":[1,15]},\"id\":\"3476\",\"type\":\"DaysTicker\"},{\"attributes\":{\"months\":[0,2,4,6,8,10]},\"id\":\"3478\",\"type\":\"MonthsTicker\"},{\"attributes\":{\"months\":[0,1,2,3,4,5,6,7,8,9,10,11]},\"id\":\"3477\",\"type\":\"MonthsTicker\"},{\"attributes\":{\"line_color\":\"#fc4f30\",\"line_width\":2,\"tags\":[\"apply_ranges\"],\"x\":{\"field\":\"timestamp\"},\"y\":{\"field\":\"value\"}},\"id\":\"3517\",\"type\":\"Line\"},{\"attributes\":{\"format\":\"%.0f\"},\"id\":\"3444\",\"type\":\"PrintfTickFormatter\"},{\"attributes\":{},\"id\":\"3433\",\"type\":\"WheelZoomTool\"},{\"attributes\":{\"children\":[{\"id\":\"3414\"}],\"height\":500,\"margin\":[0,0,0,0],\"name\":\"Row02651\",\"sizing_mode\":\"fixed\",\"tags\":[\"embedded\"],\"width\":700},\"id\":\"3408\",\"type\":\"Row\"},{\"attributes\":{\"axis\":{\"id\":\"3427\"},\"coordinates\":null,\"dimension\":1,\"grid_line_color\":null,\"group\":null,\"ticker\":null},\"id\":\"3430\",\"type\":\"Grid\"},{\"attributes\":{\"line_color\":\"#e5ae38\",\"line_width\":2,\"tags\":[\"apply_ranges\"],\"x\":{\"field\":\"timestamp\"},\"y\":{\"field\":\"value\"}},\"id\":\"3521\",\"type\":\"Line\"},{\"attributes\":{\"base\":60,\"mantissas\":[1,2,5,10,15,20,30],\"max_interval\":1800000.0,\"min_interval\":1000.0,\"num_minor_ticks\":0},\"id\":\"3471\",\"type\":\"AdaptiveTicker\"},{\"attributes\":{\"source\":{\"id\":\"3453\"}},\"id\":\"3460\",\"type\":\"CDSView\"},{\"attributes\":{\"num_minor_ticks\":5,\"tickers\":[{\"id\":\"3470\"},{\"id\":\"3471\"},{\"id\":\"3472\"},{\"id\":\"3473\"},{\"id\":\"3474\"},{\"id\":\"3475\"},{\"id\":\"3476\"},{\"id\":\"3477\"},{\"id\":\"3478\"},{\"id\":\"3479\"},{\"id\":\"3480\"},{\"id\":\"3481\"}]},\"id\":\"3424\",\"type\":\"DatetimeTicker\"},{\"attributes\":{\"base\":24,\"mantissas\":[1,2,4,6,8,12],\"max_interval\":43200000.0,\"min_interval\":3600000.0,\"num_minor_ticks\":0},\"id\":\"3472\",\"type\":\"AdaptiveTicker\"},{\"attributes\":{\"line_alpha\":0.1,\"line_color\":\"#e5ae38\",\"line_width\":2,\"tags\":[\"apply_ranges\"],\"x\":{\"field\":\"timestamp\"},\"y\":{\"field\":\"value\"}},\"id\":\"3522\",\"type\":\"Line\"},{\"attributes\":{},\"id\":\"3421\",\"type\":\"LinearScale\"},{\"attributes\":{\"source\":{\"id\":\"3485\"}},\"id\":\"3492\",\"type\":\"CDSView\"},{\"attributes\":{\"label\":{\"value\":\"OIH\"},\"renderers\":[{\"id\":\"3491\"}]},\"id\":\"3516\",\"type\":\"LegendItem\"},{\"attributes\":{\"data\":{\"Variable\":[\"IYE\",\"IYE\",\"IYE\",\"IYE\",\"IYE\",\"IYE\",\"IYE\",\"IYE\",\"IYE\",\"IYE\",\"IYE\",\"IYE\",\"IYE\",\"IYE\",\"IYE\",\"IYE\",\"IYE\",\"IYE\",\"IYE\",\"IYE\",\"IYE\",\"IYE\",\"IYE\",\"IYE\",\"IYE\",\"IYE\",\"IYE\",\"IYE\",\"IYE\",\"IYE\",\"IYE\",\"IYE\",\"IYE\",\"IYE\",\"IYE\",\"IYE\",\"IYE\",\"IYE\",\"IYE\",\"IYE\",\"IYE\",\"IYE\",\"IYE\",\"IYE\",\"IYE\",\"IYE\",\"IYE\",\"IYE\",\"IYE\",\"IYE\",\"IYE\",\"IYE\",\"IYE\",\"IYE\",\"IYE\",\"IYE\",\"IYE\",\"IYE\",\"IYE\",\"IYE\",\"IYE\",\"IYE\",\"IYE\",\"IYE\",\"IYE\",\"IYE\",\"IYE\",\"IYE\",\"IYE\",\"IYE\",\"IYE\",\"IYE\",\"IYE\",\"IYE\",\"IYE\",\"IYE\",\"IYE\",\"IYE\",\"IYE\",\"IYE\",\"IYE\",\"IYE\",\"IYE\",\"IYE\",\"IYE\",\"IYE\",\"IYE\",\"IYE\",\"IYE\",\"IYE\",\"IYE\",\"IYE\",\"IYE\",\"IYE\",\"IYE\",\"IYE\",\"IYE\",\"IYE\",\"IYE\",\"IYE\",\"IYE\",\"IYE\",\"IYE\",\"IYE\",\"IYE\",\"IYE\",\"IYE\",\"IYE\",\"IYE\",\"IYE\",\"IYE\",\"IYE\",\"IYE\",\"IYE\",\"IYE\",\"IYE\",\"IYE\",\"IYE\",\"IYE\",\"IYE\",\"IYE\",\"IYE\",\"IYE\",\"IYE\",\"IYE\",\"IYE\",\"IYE\",\"IYE\",\"IYE\",\"IYE\",\"IYE\",\"IYE\",\"IYE\",\"IYE\",\"IYE\",\"IYE\",\"IYE\",\"IYE\",\"IYE\",\"IYE\",\"IYE\",\"IYE\",\"IYE\",\"IYE\",\"IYE\",\"IYE\",\"IYE\",\"IYE\",\"IYE\",\"IYE\",\"IYE\",\"IYE\",\"IYE\",\"IYE\",\"IYE\",\"IYE\",\"IYE\",\"IYE\",\"IYE\",\"IYE\",\"IYE\",\"IYE\",\"IYE\",\"IYE\",\"IYE\",\"IYE\",\"IYE\",\"IYE\",\"IYE\",\"IYE\",\"IYE\",\"IYE\",\"IYE\",\"IYE\",\"IYE\",\"IYE\",\"IYE\",\"IYE\",\"IYE\",\"IYE\",\"IYE\",\"IYE\",\"IYE\",\"IYE\",\"IYE\",\"IYE\",\"IYE\",\"IYE\",\"IYE\",\"IYE\",\"IYE\",\"IYE\",\"IYE\",\"IYE\",\"IYE\",\"IYE\",\"IYE\",\"IYE\",\"IYE\",\"IYE\",\"IYE\",\"IYE\",\"IYE\",\"IYE\",\"IYE\",\"IYE\",\"IYE\",\"IYE\",\"IYE\",\"IYE\",\"IYE\",\"IYE\",\"IYE\",\"IYE\",\"IYE\",\"IYE\",\"IYE\",\"IYE\",\"IYE\",\"IYE\",\"IYE\",\"IYE\",\"IYE\",\"IYE\",\"IYE\",\"IYE\",\"IYE\",\"IYE\",\"IYE\",\"IYE\",\"IYE\",\"IYE\",\"IYE\",\"IYE\",\"IYE\",\"IYE\",\"IYE\",\"IYE\",\"IYE\",\"IYE\",\"IYE\",\"IYE\",\"IYE\",\"IYE\",\"IYE\",\"IYE\",\"IYE\",\"IYE\",\"IYE\",\"IYE\"],\"timestamp\":{\"__ndarray__\":\"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\",\"dtype\":\"float64\",\"order\":\"little\",\"shape\":[250]},\"value\":{\"__ndarray__\":\"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\",\"dtype\":\"float64\",\"order\":\"little\",\"shape\":[250]}},\"selected\":{\"id\":\"3454\"},\"selection_policy\":{\"id\":\"3467\"}},\"id\":\"3453\",\"type\":\"ColumnDataSource\"},{\"attributes\":{\"axis_label\":\"Date\",\"coordinates\":null,\"formatter\":{\"id\":\"3446\"},\"group\":null,\"major_label_policy\":{\"id\":\"3447\"},\"ticker\":{\"id\":\"3424\"}},\"id\":\"3423\",\"type\":\"DatetimeAxis\"},{\"attributes\":{\"click_policy\":\"mute\",\"coordinates\":null,\"group\":null,\"items\":[{\"id\":\"3483\"},{\"id\":\"3516\"},{\"id\":\"3551\"}],\"location\":[0,0],\"orientation\":\"horizontal\",\"title\":\"Variable\"},\"id\":\"3482\",\"type\":\"Legend\"},{\"attributes\":{},\"id\":\"3481\",\"type\":\"YearsTicker\"},{\"attributes\":{\"callback\":null,\"formatters\":{\"@{timestamp}\":\"datetime\"},\"renderers\":[{\"id\":\"3459\"},{\"id\":\"3491\"},{\"id\":\"3524\"}],\"tags\":[\"hv_created\"],\"tooltips\":[[\"Variable\",\"@{Variable}\"],[\"timestamp\",\"@{timestamp}{%F %T}\"],[\"value\",\"@{value}\"]]},\"id\":\"3411\",\"type\":\"HoverTool\"},{\"attributes\":{\"label\":{\"value\":\"XME\"},\"renderers\":[{\"id\":\"3524\"}]},\"id\":\"3551\",\"type\":\"LegendItem\"},{\"attributes\":{},\"id\":\"3454\",\"type\":\"Selection\"},{\"attributes\":{},\"id\":\"3467\",\"type\":\"UnionRenderers\"},{\"attributes\":{\"line_color\":\"#30a2da\",\"line_width\":2,\"tags\":[\"apply_ranges\"],\"x\":{\"field\":\"timestamp\"},\"y\":{\"field\":\"value\"}},\"id\":\"3456\",\"type\":\"Line\"},{\"attributes\":{\"axis_label\":\"Daily Returns\",\"coordinates\":null,\"formatter\":{\"id\":\"3444\"},\"group\":null,\"major_label_policy\":{\"id\":\"3450\"},\"ticker\":{\"id\":\"3428\"}},\"id\":\"3427\",\"type\":\"LinearAxis\"},{\"attributes\":{\"days\":[1,8,15,22]},\"id\":\"3475\",\"type\":\"DaysTicker\"},{\"attributes\":{\"line_alpha\":0.1,\"line_color\":\"#30a2da\",\"line_width\":2,\"tags\":[\"apply_ranges\"],\"x\":{\"field\":\"timestamp\"},\"y\":{\"field\":\"value\"}},\"id\":\"3457\",\"type\":\"Line\"},{\"attributes\":{\"mantissas\":[1,2,5],\"max_interval\":500.0,\"num_minor_ticks\":0},\"id\":\"3470\",\"type\":\"AdaptiveTicker\"},{\"attributes\":{\"overlay\":{\"id\":\"3436\"}},\"id\":\"3434\",\"type\":\"BoxZoomTool\"},{\"attributes\":{\"axis\":{\"id\":\"3423\"},\"coordinates\":null,\"grid_line_color\":null,\"group\":null,\"ticker\":null},\"id\":\"3426\",\"type\":\"Grid\"},{\"attributes\":{\"data\":{\"Variable\":[\"XME\",\"XME\",\"XME\",\"XME\",\"XME\",\"XME\",\"XME\",\"XME\",\"XME\",\"XME\",\"XME\",\"XME\",\"XME\",\"XME\",\"XME\",\"XME\",\"XME\",\"XME\",\"XME\",\"XME\",\"XME\",\"XME\",\"XME\",\"XME\",\"XME\",\"XME\",\"XME\",\"XME\",\"XME\",\"XME\",\"XME\",\"XME\",\"XME\",\"XME\",\"XME\",\"XME\",\"XME\",\"XME\",\"XME\",\"XME\",\"XME\",\"XME\",\"XME\",\"XME\",\"XME\",\"XME\",\"XME\",\"XME\",\"XME\",\"XME\",\"XME\",\"XME\",\"XME\",\"XME\",\"XME\",\"XME\",\"XME\",\"XME\",\"XME\",\"XME\",\"XME\",\"XME\",\"XME\",\"XME\",\"XME\",\"XME\",\"XME\",\"XME\",\"XME\",\"XME\",\"XME\",\"XME\",\"XME\",\"XME\",\"XME\",\"XME\",\"XME\",\"XME\",\"XME\",\"XME\",\"XME\",\"XME\",\"XME\",\"XME\",\"XME\",\"XME\",\"XME\",\"XME\",\"XME\",\"XME\",\"XME\",\"XME\",\"XME\",\"XME\",\"XME\",\"XME\",\"XME\",\"XME\",\"XME\",\"XME\",\"XME\",\"XME\",\"XME\",\"XME\",\"XME\",\"XME\",\"XME\",\"XME\",\"XME\",\"XME\",\"XME\",\"XME\",\"XME\",\"XME\",\"XME\",\"XME\",\"XME\",\"XME\",\"XME\",\"XME\",\"XME\",\"XME\",\"XME\",\"XME\",\"XME\",\"XME\",\"XME\",\"XME\",\"XME\",\"XME\",\"XME\",\"XME\",\"XME\",\"XME\",\"XME\",\"XME\",\"XME\",\"XME\",\"XME\",\"XME\",\"XME\",\"XME\",\"XME\",\"XME\",\"XME\",\"XME\",\"XME\",\"XME\",\"XME\",\"XME\",\"XME\",\"XME\",\"XME\",\"XME\",\"XME\",\"XME\",\"XME\",\"XME\",\"XME\",\"XME\",\"XME\",\"XME\",\"XME\",\"XME\",\"XME\",\"XME\",\"XME\",\"XME\",\"XME\",\"XME\",\"XME\",\"XME\",\"XME\",\"XME\",\"XME\",\"XME\",\"XME\",\"XME\",\"XME\",\"XME\",\"XME\",\"XME\",\"XME\",\"XME\",\"XME\",\"XME\",\"XME\",\"XME\",\"XME\",\"XME\",\"XME\",\"XME\",\"XME\",\"XME\",\"XME\",\"XME\",\"XME\",\"XME\",\"XME\",\"XME\",\"XME\",\"XME\",\"XME\",\"XME\",\"XME\",\"XME\",\"XME\",\"XME\",\"XME\",\"XME\",\"XME\",\"XME\",\"XME\",\"XME\",\"XME\",\"XME\",\"XME\",\"XME\",\"XME\",\"XME\",\"XME\",\"XME\",\"XME\",\"XME\",\"XME\",\"XME\",\"XME\",\"XME\",\"XME\",\"XME\",\"XME\",\"XME\",\"XME\",\"XME\",\"XME\",\"XME\",\"XME\",\"XME\",\"XME\",\"XME\",\"XME\",\"XME\",\"XME\",\"XME\",\"XME\",\"XME\",\"XME\",\"XME\",\"XME\",\"XME\"],\"timestamp\":{\"__ndarray__\":\"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\",\"dtype\":\"float64\",\"order\":\"little\",\"shape\":[250]},\"value\":{\"__ndarray__\":\"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\",\"dtype\":\"float64\",\"order\":\"little\",\"shape\":[250]}},\"selected\":{\"id\":\"3519\"},\"selection_policy\":{\"id\":\"3536\"}},\"id\":\"3518\",\"type\":\"ColumnDataSource\"},{\"attributes\":{\"bottom_units\":\"screen\",\"coordinates\":null,\"fill_alpha\":0.5,\"fill_color\":\"lightgrey\",\"group\":null,\"left_units\":\"screen\",\"level\":\"overlay\",\"line_alpha\":1.0,\"line_color\":\"black\",\"line_dash\":[4,4],\"line_width\":2,\"right_units\":\"screen\",\"syncable\":false,\"top_units\":\"screen\"},\"id\":\"3436\",\"type\":\"BoxAnnotation\"},{\"attributes\":{\"line_alpha\":0.1,\"line_color\":\"#fc4f30\",\"line_width\":2,\"tags\":[\"apply_ranges\"],\"x\":{\"field\":\"timestamp\"},\"y\":{\"field\":\"value\"}},\"id\":\"3489\",\"type\":\"Line\"},{\"attributes\":{\"months\":[0,4,8]},\"id\":\"3479\",\"type\":\"MonthsTicker\"},{\"attributes\":{},\"id\":\"3435\",\"type\":\"ResetTool\"},{\"attributes\":{},\"id\":\"3519\",\"type\":\"Selection\"},{\"attributes\":{\"coordinates\":null,\"data_source\":{\"id\":\"3518\"},\"glyph\":{\"id\":\"3521\"},\"group\":null,\"hover_glyph\":null,\"muted_glyph\":{\"id\":\"3523\"},\"nonselection_glyph\":{\"id\":\"3522\"},\"selection_glyph\":{\"id\":\"3552\"},\"view\":{\"id\":\"3525\"}},\"id\":\"3524\",\"type\":\"GlyphRenderer\"},{\"attributes\":{\"data\":{\"Variable\":[\"OIH\",\"OIH\",\"OIH\",\"OIH\",\"OIH\",\"OIH\",\"OIH\",\"OIH\",\"OIH\",\"OIH\",\"OIH\",\"OIH\",\"OIH\",\"OIH\",\"OIH\",\"OIH\",\"OIH\",\"OIH\",\"OIH\",\"OIH\",\"OIH\",\"OIH\",\"OIH\",\"OIH\",\"OIH\",\"OIH\",\"OIH\",\"OIH\",\"OIH\",\"OIH\",\"OIH\",\"OIH\",\"OIH\",\"OIH\",\"OIH\",\"OIH\",\"OIH\",\"OIH\",\"OIH\",\"OIH\",\"OIH\",\"OIH\",\"OIH\",\"OIH\",\"OIH\",\"OIH\",\"OIH\",\"OIH\",\"OIH\",\"OIH\",\"OIH\",\"OIH\",\"OIH\",\"OIH\",\"OIH\",\"OIH\",\"OIH\",\"OIH\",\"OIH\",\"OIH\",\"OIH\",\"OIH\",\"OIH\",\"OIH\",\"OIH\",\"OIH\",\"OIH\",\"OIH\",\"OIH\",\"OIH\",\"OIH\",\"OIH\",\"OIH\",\"OIH\",\"OIH\",\"OIH\",\"OIH\",\"OIH\",\"OIH\",\"OIH\",\"OIH\",\"OIH\",\"OIH\",\"OIH\",\"OIH\",\"OIH\",\"OIH\",\"OIH\",\"OIH\",\"OIH\",\"OIH\",\"OIH\",\"OIH\",\"OIH\",\"OIH\",\"OIH\",\"OIH\",\"OIH\",\"OIH\",\"OIH\",\"OIH\",\"OIH\",\"OIH\",\"OIH\",\"OIH\",\"OIH\",\"OIH\",\"OIH\",\"OIH\",\"OIH\",\"OIH\",\"OIH\",\"OIH\",\"OIH\",\"OIH\",\"OIH\",\"OIH\",\"OIH\",\"OIH\",\"OIH\",\"OIH\",\"OIH\",\"OIH\",\"OIH\",\"OIH\",\"OIH\",\"OIH\",\"OIH\",\"OIH\",\"OIH\",\"OIH\",\"OIH\",\"OIH\",\"OIH\",\"OIH\",\"OIH\",\"OIH\",\"OIH\",\"OIH\",\"OIH\",\"OIH\",\"OIH\",\"OIH\",\"OIH\",\"OIH\",\"OIH\",\"OIH\",\"OIH\",\"OIH\",\"OIH\",\"OIH\",\"OIH\",\"OIH\",\"OIH\",\"OIH\",\"OIH\",\"OIH\",\"OIH\",\"OIH\",\"OIH\",\"OIH\",\"OIH\",\"OIH\",\"OIH\",\"OIH\",\"OIH\",\"OIH\",\"OIH\",\"OIH\",\"OIH\",\"OIH\",\"OIH\",\"OIH\",\"OIH\",\"OIH\",\"OIH\",\"OIH\",\"OIH\",\"OIH\",\"OIH\",\"OIH\",\"OIH\",\"OIH\",\"OIH\",\"OIH\",\"OIH\",\"OIH\",\"OIH\",\"OIH\",\"OIH\",\"OIH\",\"OIH\",\"OIH\",\"OIH\",\"OIH\",\"OIH\",\"OIH\",\"OIH\",\"OIH\",\"OIH\",\"OIH\",\"OIH\",\"OIH\",\"OIH\",\"OIH\",\"OIH\",\"OIH\",\"OIH\",\"OIH\",\"OIH\",\"OIH\",\"OIH\",\"OIH\",\"OIH\",\"OIH\",\"OIH\",\"OIH\",\"OIH\",\"OIH\",\"OIH\",\"OIH\",\"OIH\",\"OIH\",\"OIH\",\"OIH\",\"OIH\",\"OIH\",\"OIH\",\"OIH\",\"OIH\",\"OIH\",\"OIH\",\"OIH\",\"OIH\",\"OIH\",\"OIH\",\"OIH\",\"OIH\",\"OIH\",\"OIH\",\"OIH\",\"OIH\",\"OIH\",\"OIH\",\"OIH\",\"OIH\",\"OIH\",\"OIH\",\"OIH\",\"OIH\"],\"timestamp\":{\"__ndarray__\":\"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\",\"dtype\":\"float64\",\"order\":\"little\",\"shape\":[250]},\"value\":{\"__ndarray__\":\"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\",\"dtype\":\"float64\",\"order\":\"little\",\"shape\":[250]}},\"selected\":{\"id\":\"3486\"},\"selection_policy\":{\"id\":\"3501\"}},\"id\":\"3485\",\"type\":\"ColumnDataSource\"},{\"attributes\":{},\"id\":\"3431\",\"type\":\"SaveTool\"},{\"attributes\":{\"line_alpha\":0.2,\"line_color\":\"#fc4f30\",\"line_width\":2,\"tags\":[\"apply_ranges\"],\"x\":{\"field\":\"timestamp\"},\"y\":{\"field\":\"value\"}},\"id\":\"3490\",\"type\":\"Line\"},{\"attributes\":{},\"id\":\"3486\",\"type\":\"Selection\"},{\"attributes\":{\"line_color\":\"#fc4f30\",\"line_width\":2,\"tags\":[\"apply_ranges\"],\"x\":{\"field\":\"timestamp\"},\"y\":{\"field\":\"value\"}},\"id\":\"3488\",\"type\":\"Line\"},{\"attributes\":{},\"id\":\"3536\",\"type\":\"UnionRenderers\"},{\"attributes\":{\"line_color\":\"#e5ae38\",\"line_width\":2,\"tags\":[\"apply_ranges\"],\"x\":{\"field\":\"timestamp\"},\"y\":{\"field\":\"value\"}},\"id\":\"3552\",\"type\":\"Line\"},{\"attributes\":{\"line_alpha\":0.2,\"line_color\":\"#30a2da\",\"line_width\":2,\"tags\":[\"apply_ranges\"],\"x\":{\"field\":\"timestamp\"},\"y\":{\"field\":\"value\"}},\"id\":\"3458\",\"type\":\"Line\"},{\"attributes\":{\"coordinates\":null,\"group\":null,\"text\":\"ETF Daily Returns\",\"text_color\":\"black\",\"text_font_size\":\"12pt\"},\"id\":\"3415\",\"type\":\"Title\"},{\"attributes\":{},\"id\":\"3446\",\"type\":\"DatetimeTickFormatter\"},{\"attributes\":{\"label\":{\"value\":\"IYE\"},\"renderers\":[{\"id\":\"3459\"}]},\"id\":\"3483\",\"type\":\"LegendItem\"},{\"attributes\":{},\"id\":\"3450\",\"type\":\"AllLabels\"},{\"attributes\":{},\"id\":\"3447\",\"type\":\"AllLabels\"},{\"attributes\":{\"coordinates\":null,\"data_source\":{\"id\":\"3485\"},\"glyph\":{\"id\":\"3488\"},\"group\":null,\"hover_glyph\":null,\"muted_glyph\":{\"id\":\"3490\"},\"nonselection_glyph\":{\"id\":\"3489\"},\"selection_glyph\":{\"id\":\"3517\"},\"view\":{\"id\":\"3492\"}},\"id\":\"3491\",\"type\":\"GlyphRenderer\"},{\"attributes\":{},\"id\":\"3428\",\"type\":\"BasicTicker\"},{\"attributes\":{},\"id\":\"3501\",\"type\":\"UnionRenderers\"},{\"attributes\":{},\"id\":\"3419\",\"type\":\"LinearScale\"},{\"attributes\":{\"coordinates\":null,\"data_source\":{\"id\":\"3453\"},\"glyph\":{\"id\":\"3456\"},\"group\":null,\"hover_glyph\":null,\"muted_glyph\":{\"id\":\"3458\"},\"nonselection_glyph\":{\"id\":\"3457\"},\"selection_glyph\":{\"id\":\"3484\"},\"view\":{\"id\":\"3460\"}},\"id\":\"3459\",\"type\":\"GlyphRenderer\"},{\"attributes\":{\"source\":{\"id\":\"3518\"}},\"id\":\"3525\",\"type\":\"CDSView\"},{\"attributes\":{\"line_color\":\"#30a2da\",\"line_width\":2,\"tags\":[\"apply_ranges\"],\"x\":{\"field\":\"timestamp\"},\"y\":{\"field\":\"value\"}},\"id\":\"3484\",\"type\":\"Line\"},{\"attributes\":{\"months\":[0,6]},\"id\":\"3480\",\"type\":\"MonthsTicker\"},{\"attributes\":{\"line_alpha\":0.2,\"line_color\":\"#e5ae38\",\"line_width\":2,\"tags\":[\"apply_ranges\"],\"x\":{\"field\":\"timestamp\"},\"y\":{\"field\":\"value\"}},\"id\":\"3523\",\"type\":\"Line\"},{\"attributes\":{\"days\":[1,2,3,4,5,6,7,8,9,10,11,12,13,14,15,16,17,18,19,20,21,22,23,24,25,26,27,28,29,30,31]},\"id\":\"3473\",\"type\":\"DaysTicker\"}],\"root_ids\":[\"3408\"]},\"title\":\"Bokeh Application\",\"version\":\"2.4.3\"}};\n",
       "    var render_items = [{\"docid\":\"fcf3db70-652c-4842-8723-838ffc068ae8\",\"root_ids\":[\"3408\"],\"roots\":{\"3408\":\"25ab3cec-852b-4e09-bab1-2547e358e3b2\"}}];\n",
       "    root.Bokeh.embed.embed_items_notebook(docs_json, render_items);\n",
       "    for (const render_item of render_items) {\n",
       "      for (const root_id of render_item.root_ids) {\n",
       "\tconst id_el = document.getElementById(root_id)\n",
       "\tif (id_el.children.length && (id_el.children[0].className === 'bk-root')) {\n",
       "\t  const root_el = id_el.children[0]\n",
       "\t  root_el.id = root_el.id + '-rendered'\n",
       "\t}\n",
       "      }\n",
       "    }\n",
       "  }\n",
       "  if (root.Bokeh !== undefined && root.Bokeh.Panel !== undefined) {\n",
       "    embed_document(root);\n",
       "  } else {\n",
       "    var attempts = 0;\n",
       "    var timer = setInterval(function(root) {\n",
       "      if (root.Bokeh !== undefined && root.Bokeh.Panel !== undefined) {\n",
       "        clearInterval(timer);\n",
       "        embed_document(root);\n",
       "      } else if (document.readyState == \"complete\") {\n",
       "        attempts++;\n",
       "        if (attempts > 200) {\n",
       "          clearInterval(timer);\n",
       "          console.log(\"Bokeh: ERROR: Unable to run BokehJS code because BokehJS library is missing\");\n",
       "        }\n",
       "      }\n",
       "    }, 25, root)\n",
       "  }\n",
       "})(window);</script>"
      ],
      "text/plain": [
       ":NdOverlay   [Variable]\n",
       "   :Curve   [timestamp]   (value)"
      ]
     },
     "execution_count": 108,
     "metadata": {
      "application/vnd.holoviews_exec.v0+json": {
       "id": "3408"
      }
     },
     "output_type": "execute_result"
    }
   ],
   "source": [
    "# Plot daily returns of all portfolios\n",
    "df_daily.hvplot(\n",
    "    x=\"timestamp\",\n",
    "    y=[\"IYE\", \"OIH\", \"XME\"],\n",
    "    xlabel=\"Date\",\n",
    "    ylabel=\"Daily Returns\",\n",
    "    width=700,\n",
    "    height=500,\n",
    "    legend=\"top\",\n",
    "    title=\"ETF Daily Returns\"\n",
    ").opts(yformatter=\"%.0f\")"
   ]
  },
  {
   "cell_type": "code",
   "execution_count": 109,
   "id": "b6d59a99-1c5e-45b2-98a9-84ee51649b9c",
   "metadata": {},
   "outputs": [
    {
     "data": {},
     "metadata": {},
     "output_type": "display_data"
    },
    {
     "data": {
      "application/vnd.holoviews_exec.v0+json": "",
      "text/html": [
       "<div id='3708'>\n",
       "  <div class=\"bk-root\" id=\"2f007c6d-34ef-4d2e-b1cc-3bb780d60dc1\" data-root-id=\"3708\"></div>\n",
       "</div>\n",
       "<script type=\"application/javascript\">(function(root) {\n",
       "  function embed_document(root) {\n",
       "    var docs_json = {\"52c30302-21f8-4cab-b3eb-708ca752083c\":{\"defs\":[{\"extends\":null,\"module\":null,\"name\":\"ReactiveHTML1\",\"overrides\":[],\"properties\":[]},{\"extends\":null,\"module\":null,\"name\":\"FlexBox1\",\"overrides\":[],\"properties\":[{\"default\":\"flex-start\",\"kind\":null,\"name\":\"align_content\"},{\"default\":\"flex-start\",\"kind\":null,\"name\":\"align_items\"},{\"default\":\"row\",\"kind\":null,\"name\":\"flex_direction\"},{\"default\":\"wrap\",\"kind\":null,\"name\":\"flex_wrap\"},{\"default\":\"flex-start\",\"kind\":null,\"name\":\"justify_content\"}]},{\"extends\":null,\"module\":null,\"name\":\"GridStack1\",\"overrides\":[],\"properties\":[{\"default\":\"warn\",\"kind\":null,\"name\":\"mode\"},{\"default\":null,\"kind\":null,\"name\":\"ncols\"},{\"default\":null,\"kind\":null,\"name\":\"nrows\"},{\"default\":true,\"kind\":null,\"name\":\"allow_resize\"},{\"default\":true,\"kind\":null,\"name\":\"allow_drag\"},{\"default\":[],\"kind\":null,\"name\":\"state\"}]},{\"extends\":null,\"module\":null,\"name\":\"click1\",\"overrides\":[],\"properties\":[{\"default\":\"\",\"kind\":null,\"name\":\"terminal_output\"},{\"default\":\"\",\"kind\":null,\"name\":\"debug_name\"},{\"default\":0,\"kind\":null,\"name\":\"clears\"}]},{\"extends\":null,\"module\":null,\"name\":\"NotificationAreaBase1\",\"overrides\":[],\"properties\":[{\"default\":\"bottom-right\",\"kind\":null,\"name\":\"position\"},{\"default\":0,\"kind\":null,\"name\":\"_clear\"}]},{\"extends\":null,\"module\":null,\"name\":\"NotificationArea1\",\"overrides\":[],\"properties\":[{\"default\":[],\"kind\":null,\"name\":\"notifications\"},{\"default\":\"bottom-right\",\"kind\":null,\"name\":\"position\"},{\"default\":0,\"kind\":null,\"name\":\"_clear\"},{\"default\":[{\"background\":\"#ffc107\",\"icon\":{\"className\":\"fas fa-exclamation-triangle\",\"color\":\"white\",\"tagName\":\"i\"},\"type\":\"warning\"},{\"background\":\"#007bff\",\"icon\":{\"className\":\"fas fa-info-circle\",\"color\":\"white\",\"tagName\":\"i\"},\"type\":\"info\"}],\"kind\":null,\"name\":\"types\"}]},{\"extends\":null,\"module\":null,\"name\":\"Notification\",\"overrides\":[],\"properties\":[{\"default\":null,\"kind\":null,\"name\":\"background\"},{\"default\":3000,\"kind\":null,\"name\":\"duration\"},{\"default\":null,\"kind\":null,\"name\":\"icon\"},{\"default\":\"\",\"kind\":null,\"name\":\"message\"},{\"default\":null,\"kind\":null,\"name\":\"notification_type\"},{\"default\":false,\"kind\":null,\"name\":\"_destroyed\"}]},{\"extends\":null,\"module\":null,\"name\":\"TemplateActions1\",\"overrides\":[],\"properties\":[{\"default\":0,\"kind\":null,\"name\":\"open_modal\"},{\"default\":0,\"kind\":null,\"name\":\"close_modal\"}]},{\"extends\":null,\"module\":null,\"name\":\"MaterialTemplateActions1\",\"overrides\":[],\"properties\":[{\"default\":0,\"kind\":null,\"name\":\"open_modal\"},{\"default\":0,\"kind\":null,\"name\":\"close_modal\"}]}],\"roots\":{\"references\":[{\"attributes\":{\"mantissas\":[1,2,5],\"max_interval\":500.0,\"num_minor_ticks\":0},\"id\":\"3770\",\"type\":\"AdaptiveTicker\"},{\"attributes\":{\"source\":{\"id\":\"3785\"}},\"id\":\"3792\",\"type\":\"CDSView\"},{\"attributes\":{},\"id\":\"3786\",\"type\":\"Selection\"},{\"attributes\":{\"line_alpha\":0.2,\"line_color\":\"#e5ae38\",\"line_width\":2,\"tags\":[\"apply_ranges\"],\"x\":{\"field\":\"timestamp\"},\"y\":{\"field\":\"value\"}},\"id\":\"3823\",\"type\":\"Line\"},{\"attributes\":{\"format\":\"%.0f\"},\"id\":\"3744\",\"type\":\"PrintfTickFormatter\"},{\"attributes\":{\"line_alpha\":0.1,\"line_color\":\"#e5ae38\",\"line_width\":2,\"tags\":[\"apply_ranges\"],\"x\":{\"field\":\"timestamp\"},\"y\":{\"field\":\"value\"}},\"id\":\"3822\",\"type\":\"Line\"},{\"attributes\":{\"days\":[1,15]},\"id\":\"3776\",\"type\":\"DaysTicker\"},{\"attributes\":{\"line_color\":\"#e5ae38\",\"line_width\":2,\"tags\":[\"apply_ranges\"],\"x\":{\"field\":\"timestamp\"},\"y\":{\"field\":\"value\"}},\"id\":\"3821\",\"type\":\"Line\"},{\"attributes\":{\"source\":{\"id\":\"3818\"}},\"id\":\"3825\",\"type\":\"CDSView\"},{\"attributes\":{\"coordinates\":null,\"group\":null,\"text\":\"ETF Cumulative Returns\",\"text_color\":\"black\",\"text_font_size\":\"12pt\"},\"id\":\"3715\",\"type\":\"Title\"},{\"attributes\":{\"label\":{\"value\":\"OIH\"},\"renderers\":[{\"id\":\"3791\"}]},\"id\":\"3816\",\"type\":\"LegendItem\"},{\"attributes\":{\"data\":{\"Variable\":[\"XME\",\"XME\",\"XME\",\"XME\",\"XME\",\"XME\",\"XME\",\"XME\",\"XME\",\"XME\",\"XME\",\"XME\",\"XME\",\"XME\",\"XME\",\"XME\",\"XME\",\"XME\",\"XME\",\"XME\",\"XME\",\"XME\",\"XME\",\"XME\",\"XME\",\"XME\",\"XME\",\"XME\",\"XME\",\"XME\",\"XME\",\"XME\",\"XME\",\"XME\",\"XME\",\"XME\",\"XME\",\"XME\",\"XME\",\"XME\",\"XME\",\"XME\",\"XME\",\"XME\",\"XME\",\"XME\",\"XME\",\"XME\",\"XME\",\"XME\",\"XME\",\"XME\",\"XME\",\"XME\",\"XME\",\"XME\",\"XME\",\"XME\",\"XME\",\"XME\",\"XME\",\"XME\",\"XME\",\"XME\",\"XME\",\"XME\",\"XME\",\"XME\",\"XME\",\"XME\",\"XME\",\"XME\",\"XME\",\"XME\",\"XME\",\"XME\",\"XME\",\"XME\",\"XME\",\"XME\",\"XME\",\"XME\",\"XME\",\"XME\",\"XME\",\"XME\",\"XME\",\"XME\",\"XME\",\"XME\",\"XME\",\"XME\",\"XME\",\"XME\",\"XME\",\"XME\",\"XME\",\"XME\",\"XME\",\"XME\",\"XME\",\"XME\",\"XME\",\"XME\",\"XME\",\"XME\",\"XME\",\"XME\",\"XME\",\"XME\",\"XME\",\"XME\",\"XME\",\"XME\",\"XME\",\"XME\",\"XME\",\"XME\",\"XME\",\"XME\",\"XME\",\"XME\",\"XME\",\"XME\",\"XME\",\"XME\",\"XME\",\"XME\",\"XME\",\"XME\",\"XME\",\"XME\",\"XME\",\"XME\",\"XME\",\"XME\",\"XME\",\"XME\",\"XME\",\"XME\",\"XME\",\"XME\",\"XME\",\"XME\",\"XME\",\"XME\",\"XME\",\"XME\",\"XME\",\"XME\",\"XME\",\"XME\",\"XME\",\"XME\",\"XME\",\"XME\",\"XME\",\"XME\",\"XME\",\"XME\",\"XME\",\"XME\",\"XME\",\"XME\",\"XME\",\"XME\",\"XME\",\"XME\",\"XME\",\"XME\",\"XME\",\"XME\",\"XME\",\"XME\",\"XME\",\"XME\",\"XME\",\"XME\",\"XME\",\"XME\",\"XME\",\"XME\",\"XME\",\"XME\",\"XME\",\"XME\",\"XME\",\"XME\",\"XME\",\"XME\",\"XME\",\"XME\",\"XME\",\"XME\",\"XME\",\"XME\",\"XME\",\"XME\",\"XME\",\"XME\",\"XME\",\"XME\",\"XME\",\"XME\",\"XME\",\"XME\",\"XME\",\"XME\",\"XME\",\"XME\",\"XME\",\"XME\",\"XME\",\"XME\",\"XME\",\"XME\",\"XME\",\"XME\",\"XME\",\"XME\",\"XME\",\"XME\",\"XME\",\"XME\",\"XME\",\"XME\",\"XME\",\"XME\",\"XME\",\"XME\",\"XME\",\"XME\",\"XME\",\"XME\",\"XME\",\"XME\",\"XME\",\"XME\",\"XME\",\"XME\",\"XME\",\"XME\",\"XME\",\"XME\",\"XME\",\"XME\",\"XME\",\"XME\",\"XME\",\"XME\"],\"timestamp\":{\"__ndarray__\":\"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\",\"dtype\":\"float64\",\"order\":\"little\",\"shape\":[250]},\"value\":{\"__ndarray__\":\"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\",\"dtype\":\"float64\",\"order\":\"little\",\"shape\":[250]}},\"selected\":{\"id\":\"3819\"},\"selection_policy\":{\"id\":\"3836\"}},\"id\":\"3818\",\"type\":\"ColumnDataSource\"},{\"attributes\":{},\"id\":\"3819\",\"type\":\"Selection\"},{\"attributes\":{},\"id\":\"3750\",\"type\":\"AllLabels\"},{\"attributes\":{\"num_minor_ticks\":5,\"tickers\":[{\"id\":\"3770\"},{\"id\":\"3771\"},{\"id\":\"3772\"},{\"id\":\"3773\"},{\"id\":\"3774\"},{\"id\":\"3775\"},{\"id\":\"3776\"},{\"id\":\"3777\"},{\"id\":\"3778\"},{\"id\":\"3779\"},{\"id\":\"3780\"},{\"id\":\"3781\"}]},\"id\":\"3724\",\"type\":\"DatetimeTicker\"},{\"attributes\":{\"children\":[{\"id\":\"3714\"}],\"height\":500,\"margin\":[0,0,0,0],\"name\":\"Row02867\",\"sizing_mode\":\"fixed\",\"tags\":[\"embedded\"],\"width\":700},\"id\":\"3708\",\"type\":\"Row\"},{\"attributes\":{},\"id\":\"3731\",\"type\":\"SaveTool\"},{\"attributes\":{\"overlay\":{\"id\":\"3736\"}},\"id\":\"3734\",\"type\":\"BoxZoomTool\"},{\"attributes\":{\"line_color\":\"#30a2da\",\"line_width\":2,\"tags\":[\"apply_ranges\"],\"x\":{\"field\":\"timestamp\"},\"y\":{\"field\":\"value\"}},\"id\":\"3756\",\"type\":\"Line\"},{\"attributes\":{\"click_policy\":\"mute\",\"coordinates\":null,\"group\":null,\"items\":[{\"id\":\"3783\"},{\"id\":\"3816\"},{\"id\":\"3851\"}],\"location\":[0,0],\"orientation\":\"horizontal\",\"title\":\"Variable\"},\"id\":\"3782\",\"type\":\"Legend\"},{\"attributes\":{\"above\":[{\"id\":\"3782\"}],\"below\":[{\"id\":\"3723\"}],\"center\":[{\"id\":\"3726\"},{\"id\":\"3730\"}],\"height\":500,\"left\":[{\"id\":\"3727\"}],\"margin\":[5,5,5,5],\"min_border_bottom\":10,\"min_border_left\":10,\"min_border_right\":10,\"min_border_top\":10,\"output_backend\":\"webgl\",\"renderers\":[{\"id\":\"3759\"},{\"id\":\"3791\"},{\"id\":\"3824\"}],\"sizing_mode\":\"fixed\",\"title\":{\"id\":\"3715\"},\"toolbar\":{\"id\":\"3737\"},\"width\":700,\"x_range\":{\"id\":\"3709\"},\"x_scale\":{\"id\":\"3719\"},\"y_range\":{\"id\":\"3710\"},\"y_scale\":{\"id\":\"3721\"}},\"id\":\"3714\",\"subtype\":\"Figure\",\"type\":\"Plot\"},{\"attributes\":{\"line_alpha\":0.1,\"line_color\":\"#30a2da\",\"line_width\":2,\"tags\":[\"apply_ranges\"],\"x\":{\"field\":\"timestamp\"},\"y\":{\"field\":\"value\"}},\"id\":\"3757\",\"type\":\"Line\"},{\"attributes\":{\"line_alpha\":0.2,\"line_color\":\"#30a2da\",\"line_width\":2,\"tags\":[\"apply_ranges\"],\"x\":{\"field\":\"timestamp\"},\"y\":{\"field\":\"value\"}},\"id\":\"3758\",\"type\":\"Line\"},{\"attributes\":{\"coordinates\":null,\"data_source\":{\"id\":\"3753\"},\"glyph\":{\"id\":\"3756\"},\"group\":null,\"hover_glyph\":null,\"muted_glyph\":{\"id\":\"3758\"},\"nonselection_glyph\":{\"id\":\"3757\"},\"selection_glyph\":{\"id\":\"3784\"},\"view\":{\"id\":\"3760\"}},\"id\":\"3759\",\"type\":\"GlyphRenderer\"},{\"attributes\":{\"axis_label\":\"Cumulative Returns\",\"coordinates\":null,\"formatter\":{\"id\":\"3744\"},\"group\":null,\"major_label_policy\":{\"id\":\"3750\"},\"ticker\":{\"id\":\"3728\"}},\"id\":\"3727\",\"type\":\"LinearAxis\"},{\"attributes\":{\"line_color\":\"#fc4f30\",\"line_width\":2,\"tags\":[\"apply_ranges\"],\"x\":{\"field\":\"timestamp\"},\"y\":{\"field\":\"value\"}},\"id\":\"3788\",\"type\":\"Line\"},{\"attributes\":{\"line_alpha\":0.2,\"line_color\":\"#fc4f30\",\"line_width\":2,\"tags\":[\"apply_ranges\"],\"x\":{\"field\":\"timestamp\"},\"y\":{\"field\":\"value\"}},\"id\":\"3790\",\"type\":\"Line\"},{\"attributes\":{},\"id\":\"3733\",\"type\":\"WheelZoomTool\"},{\"attributes\":{\"months\":[0,4,8]},\"id\":\"3779\",\"type\":\"MonthsTicker\"},{\"attributes\":{\"end\":1.5852287882271812,\"reset_end\":1.5852287882271812,\"reset_start\":0.8530328811220981,\"start\":0.8530328811220981,\"tags\":[[[\"value\",\"value\",null]]]},\"id\":\"3710\",\"type\":\"Range1d\"},{\"attributes\":{\"days\":[1,2,3,4,5,6,7,8,9,10,11,12,13,14,15,16,17,18,19,20,21,22,23,24,25,26,27,28,29,30,31]},\"id\":\"3773\",\"type\":\"DaysTicker\"},{\"attributes\":{\"callback\":null,\"formatters\":{\"@{timestamp}\":\"datetime\"},\"renderers\":[{\"id\":\"3759\"},{\"id\":\"3791\"},{\"id\":\"3824\"}],\"tags\":[\"hv_created\"],\"tooltips\":[[\"Variable\",\"@{Variable}\"],[\"timestamp\",\"@{timestamp}{%F %T}\"],[\"value\",\"@{value}\"]]},\"id\":\"3711\",\"type\":\"HoverTool\"},{\"attributes\":{\"line_color\":\"#fc4f30\",\"line_width\":2,\"tags\":[\"apply_ranges\"],\"x\":{\"field\":\"timestamp\"},\"y\":{\"field\":\"value\"}},\"id\":\"3817\",\"type\":\"Line\"},{\"attributes\":{\"label\":{\"value\":\"IYE\"},\"renderers\":[{\"id\":\"3759\"}]},\"id\":\"3783\",\"type\":\"LegendItem\"},{\"attributes\":{\"coordinates\":null,\"data_source\":{\"id\":\"3785\"},\"glyph\":{\"id\":\"3788\"},\"group\":null,\"hover_glyph\":null,\"muted_glyph\":{\"id\":\"3790\"},\"nonselection_glyph\":{\"id\":\"3789\"},\"selection_glyph\":{\"id\":\"3817\"},\"view\":{\"id\":\"3792\"}},\"id\":\"3791\",\"type\":\"GlyphRenderer\"},{\"attributes\":{\"base\":60,\"mantissas\":[1,2,5,10,15,20,30],\"max_interval\":1800000.0,\"min_interval\":1000.0,\"num_minor_ticks\":0},\"id\":\"3771\",\"type\":\"AdaptiveTicker\"},{\"attributes\":{\"months\":[0,6]},\"id\":\"3780\",\"type\":\"MonthsTicker\"},{\"attributes\":{\"data\":{\"Variable\":[\"IYE\",\"IYE\",\"IYE\",\"IYE\",\"IYE\",\"IYE\",\"IYE\",\"IYE\",\"IYE\",\"IYE\",\"IYE\",\"IYE\",\"IYE\",\"IYE\",\"IYE\",\"IYE\",\"IYE\",\"IYE\",\"IYE\",\"IYE\",\"IYE\",\"IYE\",\"IYE\",\"IYE\",\"IYE\",\"IYE\",\"IYE\",\"IYE\",\"IYE\",\"IYE\",\"IYE\",\"IYE\",\"IYE\",\"IYE\",\"IYE\",\"IYE\",\"IYE\",\"IYE\",\"IYE\",\"IYE\",\"IYE\",\"IYE\",\"IYE\",\"IYE\",\"IYE\",\"IYE\",\"IYE\",\"IYE\",\"IYE\",\"IYE\",\"IYE\",\"IYE\",\"IYE\",\"IYE\",\"IYE\",\"IYE\",\"IYE\",\"IYE\",\"IYE\",\"IYE\",\"IYE\",\"IYE\",\"IYE\",\"IYE\",\"IYE\",\"IYE\",\"IYE\",\"IYE\",\"IYE\",\"IYE\",\"IYE\",\"IYE\",\"IYE\",\"IYE\",\"IYE\",\"IYE\",\"IYE\",\"IYE\",\"IYE\",\"IYE\",\"IYE\",\"IYE\",\"IYE\",\"IYE\",\"IYE\",\"IYE\",\"IYE\",\"IYE\",\"IYE\",\"IYE\",\"IYE\",\"IYE\",\"IYE\",\"IYE\",\"IYE\",\"IYE\",\"IYE\",\"IYE\",\"IYE\",\"IYE\",\"IYE\",\"IYE\",\"IYE\",\"IYE\",\"IYE\",\"IYE\",\"IYE\",\"IYE\",\"IYE\",\"IYE\",\"IYE\",\"IYE\",\"IYE\",\"IYE\",\"IYE\",\"IYE\",\"IYE\",\"IYE\",\"IYE\",\"IYE\",\"IYE\",\"IYE\",\"IYE\",\"IYE\",\"IYE\",\"IYE\",\"IYE\",\"IYE\",\"IYE\",\"IYE\",\"IYE\",\"IYE\",\"IYE\",\"IYE\",\"IYE\",\"IYE\",\"IYE\",\"IYE\",\"IYE\",\"IYE\",\"IYE\",\"IYE\",\"IYE\",\"IYE\",\"IYE\",\"IYE\",\"IYE\",\"IYE\",\"IYE\",\"IYE\",\"IYE\",\"IYE\",\"IYE\",\"IYE\",\"IYE\",\"IYE\",\"IYE\",\"IYE\",\"IYE\",\"IYE\",\"IYE\",\"IYE\",\"IYE\",\"IYE\",\"IYE\",\"IYE\",\"IYE\",\"IYE\",\"IYE\",\"IYE\",\"IYE\",\"IYE\",\"IYE\",\"IYE\",\"IYE\",\"IYE\",\"IYE\",\"IYE\",\"IYE\",\"IYE\",\"IYE\",\"IYE\",\"IYE\",\"IYE\",\"IYE\",\"IYE\",\"IYE\",\"IYE\",\"IYE\",\"IYE\",\"IYE\",\"IYE\",\"IYE\",\"IYE\",\"IYE\",\"IYE\",\"IYE\",\"IYE\",\"IYE\",\"IYE\",\"IYE\",\"IYE\",\"IYE\",\"IYE\",\"IYE\",\"IYE\",\"IYE\",\"IYE\",\"IYE\",\"IYE\",\"IYE\",\"IYE\",\"IYE\",\"IYE\",\"IYE\",\"IYE\",\"IYE\",\"IYE\",\"IYE\",\"IYE\",\"IYE\",\"IYE\",\"IYE\",\"IYE\",\"IYE\",\"IYE\",\"IYE\",\"IYE\",\"IYE\",\"IYE\",\"IYE\",\"IYE\",\"IYE\",\"IYE\",\"IYE\",\"IYE\",\"IYE\",\"IYE\",\"IYE\",\"IYE\",\"IYE\",\"IYE\",\"IYE\",\"IYE\",\"IYE\",\"IYE\",\"IYE\",\"IYE\",\"IYE\",\"IYE\"],\"timestamp\":{\"__ndarray__\":\"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\",\"dtype\":\"float64\",\"order\":\"little\",\"shape\":[250]},\"value\":{\"__ndarray__\":\"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\",\"dtype\":\"float64\",\"order\":\"little\",\"shape\":[250]}},\"selected\":{\"id\":\"3754\"},\"selection_policy\":{\"id\":\"3767\"}},\"id\":\"3753\",\"type\":\"ColumnDataSource\"},{\"attributes\":{},\"id\":\"3754\",\"type\":\"Selection\"},{\"attributes\":{\"line_alpha\":0.1,\"line_color\":\"#fc4f30\",\"line_width\":2,\"tags\":[\"apply_ranges\"],\"x\":{\"field\":\"timestamp\"},\"y\":{\"field\":\"value\"}},\"id\":\"3789\",\"type\":\"Line\"},{\"attributes\":{},\"id\":\"3719\",\"type\":\"LinearScale\"},{\"attributes\":{\"data\":{\"Variable\":[\"OIH\",\"OIH\",\"OIH\",\"OIH\",\"OIH\",\"OIH\",\"OIH\",\"OIH\",\"OIH\",\"OIH\",\"OIH\",\"OIH\",\"OIH\",\"OIH\",\"OIH\",\"OIH\",\"OIH\",\"OIH\",\"OIH\",\"OIH\",\"OIH\",\"OIH\",\"OIH\",\"OIH\",\"OIH\",\"OIH\",\"OIH\",\"OIH\",\"OIH\",\"OIH\",\"OIH\",\"OIH\",\"OIH\",\"OIH\",\"OIH\",\"OIH\",\"OIH\",\"OIH\",\"OIH\",\"OIH\",\"OIH\",\"OIH\",\"OIH\",\"OIH\",\"OIH\",\"OIH\",\"OIH\",\"OIH\",\"OIH\",\"OIH\",\"OIH\",\"OIH\",\"OIH\",\"OIH\",\"OIH\",\"OIH\",\"OIH\",\"OIH\",\"OIH\",\"OIH\",\"OIH\",\"OIH\",\"OIH\",\"OIH\",\"OIH\",\"OIH\",\"OIH\",\"OIH\",\"OIH\",\"OIH\",\"OIH\",\"OIH\",\"OIH\",\"OIH\",\"OIH\",\"OIH\",\"OIH\",\"OIH\",\"OIH\",\"OIH\",\"OIH\",\"OIH\",\"OIH\",\"OIH\",\"OIH\",\"OIH\",\"OIH\",\"OIH\",\"OIH\",\"OIH\",\"OIH\",\"OIH\",\"OIH\",\"OIH\",\"OIH\",\"OIH\",\"OIH\",\"OIH\",\"OIH\",\"OIH\",\"OIH\",\"OIH\",\"OIH\",\"OIH\",\"OIH\",\"OIH\",\"OIH\",\"OIH\",\"OIH\",\"OIH\",\"OIH\",\"OIH\",\"OIH\",\"OIH\",\"OIH\",\"OIH\",\"OIH\",\"OIH\",\"OIH\",\"OIH\",\"OIH\",\"OIH\",\"OIH\",\"OIH\",\"OIH\",\"OIH\",\"OIH\",\"OIH\",\"OIH\",\"OIH\",\"OIH\",\"OIH\",\"OIH\",\"OIH\",\"OIH\",\"OIH\",\"OIH\",\"OIH\",\"OIH\",\"OIH\",\"OIH\",\"OIH\",\"OIH\",\"OIH\",\"OIH\",\"OIH\",\"OIH\",\"OIH\",\"OIH\",\"OIH\",\"OIH\",\"OIH\",\"OIH\",\"OIH\",\"OIH\",\"OIH\",\"OIH\",\"OIH\",\"OIH\",\"OIH\",\"OIH\",\"OIH\",\"OIH\",\"OIH\",\"OIH\",\"OIH\",\"OIH\",\"OIH\",\"OIH\",\"OIH\",\"OIH\",\"OIH\",\"OIH\",\"OIH\",\"OIH\",\"OIH\",\"OIH\",\"OIH\",\"OIH\",\"OIH\",\"OIH\",\"OIH\",\"OIH\",\"OIH\",\"OIH\",\"OIH\",\"OIH\",\"OIH\",\"OIH\",\"OIH\",\"OIH\",\"OIH\",\"OIH\",\"OIH\",\"OIH\",\"OIH\",\"OIH\",\"OIH\",\"OIH\",\"OIH\",\"OIH\",\"OIH\",\"OIH\",\"OIH\",\"OIH\",\"OIH\",\"OIH\",\"OIH\",\"OIH\",\"OIH\",\"OIH\",\"OIH\",\"OIH\",\"OIH\",\"OIH\",\"OIH\",\"OIH\",\"OIH\",\"OIH\",\"OIH\",\"OIH\",\"OIH\",\"OIH\",\"OIH\",\"OIH\",\"OIH\",\"OIH\",\"OIH\",\"OIH\",\"OIH\",\"OIH\",\"OIH\",\"OIH\",\"OIH\",\"OIH\",\"OIH\",\"OIH\",\"OIH\",\"OIH\",\"OIH\",\"OIH\",\"OIH\",\"OIH\",\"OIH\",\"OIH\",\"OIH\",\"OIH\",\"OIH\",\"OIH\",\"OIH\"],\"timestamp\":{\"__ndarray__\":\"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\",\"dtype\":\"float64\",\"order\":\"little\",\"shape\":[250]},\"value\":{\"__ndarray__\":\"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\",\"dtype\":\"float64\",\"order\":\"little\",\"shape\":[250]}},\"selected\":{\"id\":\"3786\"},\"selection_policy\":{\"id\":\"3801\"}},\"id\":\"3785\",\"type\":\"ColumnDataSource\"},{\"attributes\":{\"axis\":{\"id\":\"3723\"},\"coordinates\":null,\"grid_line_color\":null,\"group\":null,\"ticker\":null},\"id\":\"3726\",\"type\":\"Grid\"},{\"attributes\":{\"end\":1688961600000.0,\"reset_end\":1688961600000.0,\"reset_start\":1657598400000.0,\"start\":1657598400000.0,\"tags\":[[[\"timestamp\",\"timestamp\",null]]]},\"id\":\"3709\",\"type\":\"Range1d\"},{\"attributes\":{\"axis_label\":\"Date\",\"coordinates\":null,\"formatter\":{\"id\":\"3746\"},\"group\":null,\"major_label_policy\":{\"id\":\"3747\"},\"ticker\":{\"id\":\"3724\"}},\"id\":\"3723\",\"type\":\"DatetimeAxis\"},{\"attributes\":{\"label\":{\"value\":\"XME\"},\"renderers\":[{\"id\":\"3824\"}]},\"id\":\"3851\",\"type\":\"LegendItem\"},{\"attributes\":{\"days\":[1,8,15,22]},\"id\":\"3775\",\"type\":\"DaysTicker\"},{\"attributes\":{\"days\":[1,4,7,10,13,16,19,22,25,28]},\"id\":\"3774\",\"type\":\"DaysTicker\"},{\"attributes\":{\"base\":24,\"mantissas\":[1,2,4,6,8,12],\"max_interval\":43200000.0,\"min_interval\":3600000.0,\"num_minor_ticks\":0},\"id\":\"3772\",\"type\":\"AdaptiveTicker\"},{\"attributes\":{},\"id\":\"3732\",\"type\":\"PanTool\"},{\"attributes\":{\"months\":[0,1,2,3,4,5,6,7,8,9,10,11]},\"id\":\"3777\",\"type\":\"MonthsTicker\"},{\"attributes\":{},\"id\":\"3767\",\"type\":\"UnionRenderers\"},{\"attributes\":{},\"id\":\"3781\",\"type\":\"YearsTicker\"},{\"attributes\":{\"line_color\":\"#30a2da\",\"line_width\":2,\"tags\":[\"apply_ranges\"],\"x\":{\"field\":\"timestamp\"},\"y\":{\"field\":\"value\"}},\"id\":\"3784\",\"type\":\"Line\"},{\"attributes\":{},\"id\":\"3746\",\"type\":\"DatetimeTickFormatter\"},{\"attributes\":{\"bottom_units\":\"screen\",\"coordinates\":null,\"fill_alpha\":0.5,\"fill_color\":\"lightgrey\",\"group\":null,\"left_units\":\"screen\",\"level\":\"overlay\",\"line_alpha\":1.0,\"line_color\":\"black\",\"line_dash\":[4,4],\"line_width\":2,\"right_units\":\"screen\",\"syncable\":false,\"top_units\":\"screen\"},\"id\":\"3736\",\"type\":\"BoxAnnotation\"},{\"attributes\":{\"months\":[0,2,4,6,8,10]},\"id\":\"3778\",\"type\":\"MonthsTicker\"},{\"attributes\":{},\"id\":\"3721\",\"type\":\"LinearScale\"},{\"attributes\":{},\"id\":\"3801\",\"type\":\"UnionRenderers\"},{\"attributes\":{},\"id\":\"3836\",\"type\":\"UnionRenderers\"},{\"attributes\":{\"coordinates\":null,\"data_source\":{\"id\":\"3818\"},\"glyph\":{\"id\":\"3821\"},\"group\":null,\"hover_glyph\":null,\"muted_glyph\":{\"id\":\"3823\"},\"nonselection_glyph\":{\"id\":\"3822\"},\"selection_glyph\":{\"id\":\"3852\"},\"view\":{\"id\":\"3825\"}},\"id\":\"3824\",\"type\":\"GlyphRenderer\"},{\"attributes\":{\"line_color\":\"#e5ae38\",\"line_width\":2,\"tags\":[\"apply_ranges\"],\"x\":{\"field\":\"timestamp\"},\"y\":{\"field\":\"value\"}},\"id\":\"3852\",\"type\":\"Line\"},{\"attributes\":{\"active_drag\":{\"id\":\"3732\"},\"active_scroll\":{\"id\":\"3733\"},\"tools\":[{\"id\":\"3711\"},{\"id\":\"3731\"},{\"id\":\"3732\"},{\"id\":\"3733\"},{\"id\":\"3734\"},{\"id\":\"3735\"}]},\"id\":\"3737\",\"type\":\"Toolbar\"},{\"attributes\":{\"axis\":{\"id\":\"3727\"},\"coordinates\":null,\"dimension\":1,\"grid_line_color\":null,\"group\":null,\"ticker\":null},\"id\":\"3730\",\"type\":\"Grid\"},{\"attributes\":{\"source\":{\"id\":\"3753\"}},\"id\":\"3760\",\"type\":\"CDSView\"},{\"attributes\":{},\"id\":\"3728\",\"type\":\"BasicTicker\"},{\"attributes\":{},\"id\":\"3747\",\"type\":\"AllLabels\"},{\"attributes\":{},\"id\":\"3735\",\"type\":\"ResetTool\"}],\"root_ids\":[\"3708\"]},\"title\":\"Bokeh Application\",\"version\":\"2.4.3\"}};\n",
       "    var render_items = [{\"docid\":\"52c30302-21f8-4cab-b3eb-708ca752083c\",\"root_ids\":[\"3708\"],\"roots\":{\"3708\":\"2f007c6d-34ef-4d2e-b1cc-3bb780d60dc1\"}}];\n",
       "    root.Bokeh.embed.embed_items_notebook(docs_json, render_items);\n",
       "    for (const render_item of render_items) {\n",
       "      for (const root_id of render_item.root_ids) {\n",
       "\tconst id_el = document.getElementById(root_id)\n",
       "\tif (id_el.children.length && (id_el.children[0].className === 'bk-root')) {\n",
       "\t  const root_el = id_el.children[0]\n",
       "\t  root_el.id = root_el.id + '-rendered'\n",
       "\t}\n",
       "      }\n",
       "    }\n",
       "  }\n",
       "  if (root.Bokeh !== undefined && root.Bokeh.Panel !== undefined) {\n",
       "    embed_document(root);\n",
       "  } else {\n",
       "    var attempts = 0;\n",
       "    var timer = setInterval(function(root) {\n",
       "      if (root.Bokeh !== undefined && root.Bokeh.Panel !== undefined) {\n",
       "        clearInterval(timer);\n",
       "        embed_document(root);\n",
       "      } else if (document.readyState == \"complete\") {\n",
       "        attempts++;\n",
       "        if (attempts > 200) {\n",
       "          clearInterval(timer);\n",
       "          console.log(\"Bokeh: ERROR: Unable to run BokehJS code because BokehJS library is missing\");\n",
       "        }\n",
       "      }\n",
       "    }, 25, root)\n",
       "  }\n",
       "})(window);</script>"
      ],
      "text/plain": [
       ":NdOverlay   [Variable]\n",
       "   :Curve   [timestamp]   (value)"
      ]
     },
     "execution_count": 109,
     "metadata": {
      "application/vnd.holoviews_exec.v0+json": {
       "id": "3708"
      }
     },
     "output_type": "execute_result"
    }
   ],
   "source": [
    "# Calculate cumulative returns of all portfolios\n",
    "df_cum = (1+ df_daily).cumprod()\n",
    "# Plot cumulative returns\n",
    "df_cum.hvplot( \n",
    "    x=\"timestamp\",\n",
    "    y=[\"IYE\", \"OIH\", \"XME\"],\n",
    "    xlabel=\"Date\",\n",
    "    ylabel=\"Cumulative Returns\",\n",
    "    width=700,\n",
    "    height=500,\n",
    "    legend=\"top\",\n",
    "    title=\"ETF Cumulative Returns\"\n",
    ").opts(yformatter=\"%.0f\")"
   ]
  },
  {
   "cell_type": "code",
   "execution_count": 110,
   "id": "02569764-918d-4d3d-85c9-191bd3c3df1c",
   "metadata": {},
   "outputs": [
    {
     "data": {
      "text/plain": [
       "<Axes: >"
      ]
     },
     "execution_count": 110,
     "metadata": {},
     "output_type": "execute_result"
    },
    {
     "data": {
      "image/png": "[encoded data removed]",
      "text/plain": [
       "<Figure size 2000x1000 with 1 Axes>"
      ]
     },
     "metadata": {},
     "output_type": "display_data"
    }
   ],
   "source": [
    "# Box plot to visually show risk\n",
    "#df_daily.hvplot.box(\n",
    "    #x=[\"IYE\", \"OIH\", \"XME\"],\n",
    "    #y=\"Daily Returns\",\n",
    "    #xlabel=\"ETFs\",\n",
    "    #ylabel=\"Daily Returns\",\n",
    "    #width=700,\n",
    "    #height=500,\n",
    "    #legend=\"top\",\n",
    "    #title=\"ETF Daily Returns Risk Analysis\"\n",
    "#).opts(yformatter=\"%.0f\")\n",
    "df_daily.plot(kind = \"box\", figsize = (20,10))"
   ]
  },
  {
   "cell_type": "code",
   "execution_count": 111,
   "id": "190920dc-512a-4cea-b009-8371f630b9d9",
   "metadata": {},
   "outputs": [
    {
     "data": {
      "text/html": [
       "<div>\n",
       "<style scoped>\n",
       "    .dataframe tbody tr th:only-of-type {\n",
       "        vertical-align: middle;\n",
       "    }\n",
       "\n",
       "    .dataframe tbody tr th {\n",
       "        vertical-align: top;\n",
       "    }\n",
       "\n",
       "    .dataframe thead th {\n",
       "        text-align: right;\n",
       "    }\n",
       "</style>\n",
       "<table border=\"1\" class=\"dataframe\">\n",
       "  <thead>\n",
       "    <tr style=\"text-align: right;\">\n",
       "      <th></th>\n",
       "      <th>std</th>\n",
       "    </tr>\n",
       "  </thead>\n",
       "  <tbody>\n",
       "    <tr>\n",
       "      <th>IYE</th>\n",
       "      <td>0.018638</td>\n",
       "    </tr>\n",
       "    <tr>\n",
       "      <th>OIH</th>\n",
       "      <td>0.026774</td>\n",
       "    </tr>\n",
       "    <tr>\n",
       "      <th>XME</th>\n",
       "      <td>0.021376</td>\n",
       "    </tr>\n",
       "  </tbody>\n",
       "</table>\n",
       "</div>"
      ],
      "text/plain": [
       "          std\n",
       "IYE  0.018638\n",
       "OIH  0.026774\n",
       "XME  0.021376"
      ]
     },
     "execution_count": 111,
     "metadata": {},
     "output_type": "execute_result"
    }
   ],
   "source": [
    "# Calculate the daily standard deviations of all portfolios\n",
    "df_daily_std = pd.DataFrame(df_daily.std()).rename(columns = {0:\"std\"})\n",
    "df_daily_std"
   ]
  },
  {
   "cell_type": "code",
   "execution_count": 112,
   "id": "f6f033bf-5996-4954-8ff6-663554c6db35",
   "metadata": {},
   "outputs": [
    {
     "data": {
      "text/html": [
       "<div>\n",
       "<style scoped>\n",
       "    .dataframe tbody tr th:only-of-type {\n",
       "        vertical-align: middle;\n",
       "    }\n",
       "\n",
       "    .dataframe tbody tr th {\n",
       "        vertical-align: top;\n",
       "    }\n",
       "\n",
       "    .dataframe thead th {\n",
       "        text-align: right;\n",
       "    }\n",
       "</style>\n",
       "<table border=\"1\" class=\"dataframe\">\n",
       "  <thead>\n",
       "    <tr style=\"text-align: right;\">\n",
       "      <th></th>\n",
       "      <th>std</th>\n",
       "    </tr>\n",
       "  </thead>\n",
       "  <tbody>\n",
       "    <tr>\n",
       "      <th>IYE</th>\n",
       "      <td>0.295866</td>\n",
       "    </tr>\n",
       "    <tr>\n",
       "      <th>OIH</th>\n",
       "      <td>0.425021</td>\n",
       "    </tr>\n",
       "    <tr>\n",
       "      <th>XME</th>\n",
       "      <td>0.339336</td>\n",
       "    </tr>\n",
       "  </tbody>\n",
       "</table>\n",
       "</div>"
      ],
      "text/plain": [
       "          std\n",
       "IYE  0.295866\n",
       "OIH  0.425021\n",
       "XME  0.339336"
      ]
     },
     "execution_count": 112,
     "metadata": {},
     "output_type": "execute_result"
    }
   ],
   "source": [
    "# Calculate the annualized standard deviation (252 trading days)\n",
    "df_annualized_std = df_daily_std*np.sqrt(252)\n",
    "df_annualized_std"
   ]
  },
  {
   "cell_type": "code",
   "execution_count": 113,
   "id": "652048a5-81ba-4c0d-a512-34956780b7f3",
   "metadata": {},
   "outputs": [
    {
     "data": {},
     "metadata": {},
     "output_type": "display_data"
    },
    {
     "data": {
      "application/vnd.holoviews_exec.v0+json": "",
      "text/html": [
       "<div id='4008'>\n",
       "  <div class=\"bk-root\" id=\"056c76e7-04f6-48be-8cb5-da94e97514d6\" data-root-id=\"4008\"></div>\n",
       "</div>\n",
       "<script type=\"application/javascript\">(function(root) {\n",
       "  function embed_document(root) {\n",
       "    var docs_json = {\"c8d8ab05-3a30-4e38-865a-fda5689b84cd\":{\"defs\":[{\"extends\":null,\"module\":null,\"name\":\"ReactiveHTML1\",\"overrides\":[],\"properties\":[]},{\"extends\":null,\"module\":null,\"name\":\"FlexBox1\",\"overrides\":[],\"properties\":[{\"default\":\"flex-start\",\"kind\":null,\"name\":\"align_content\"},{\"default\":\"flex-start\",\"kind\":null,\"name\":\"align_items\"},{\"default\":\"row\",\"kind\":null,\"name\":\"flex_direction\"},{\"default\":\"wrap\",\"kind\":null,\"name\":\"flex_wrap\"},{\"default\":\"flex-start\",\"kind\":null,\"name\":\"justify_content\"}]},{\"extends\":null,\"module\":null,\"name\":\"GridStack1\",\"overrides\":[],\"properties\":[{\"default\":\"warn\",\"kind\":null,\"name\":\"mode\"},{\"default\":null,\"kind\":null,\"name\":\"ncols\"},{\"default\":null,\"kind\":null,\"name\":\"nrows\"},{\"default\":true,\"kind\":null,\"name\":\"allow_resize\"},{\"default\":true,\"kind\":null,\"name\":\"allow_drag\"},{\"default\":[],\"kind\":null,\"name\":\"state\"}]},{\"extends\":null,\"module\":null,\"name\":\"click1\",\"overrides\":[],\"properties\":[{\"default\":\"\",\"kind\":null,\"name\":\"terminal_output\"},{\"default\":\"\",\"kind\":null,\"name\":\"debug_name\"},{\"default\":0,\"kind\":null,\"name\":\"clears\"}]},{\"extends\":null,\"module\":null,\"name\":\"NotificationAreaBase1\",\"overrides\":[],\"properties\":[{\"default\":\"bottom-right\",\"kind\":null,\"name\":\"position\"},{\"default\":0,\"kind\":null,\"name\":\"_clear\"}]},{\"extends\":null,\"module\":null,\"name\":\"NotificationArea1\",\"overrides\":[],\"properties\":[{\"default\":[],\"kind\":null,\"name\":\"notifications\"},{\"default\":\"bottom-right\",\"kind\":null,\"name\":\"position\"},{\"default\":0,\"kind\":null,\"name\":\"_clear\"},{\"default\":[{\"background\":\"#ffc107\",\"icon\":{\"className\":\"fas fa-exclamation-triangle\",\"color\":\"white\",\"tagName\":\"i\"},\"type\":\"warning\"},{\"background\":\"#007bff\",\"icon\":{\"className\":\"fas fa-info-circle\",\"color\":\"white\",\"tagName\":\"i\"},\"type\":\"info\"}],\"kind\":null,\"name\":\"types\"}]},{\"extends\":null,\"module\":null,\"name\":\"Notification\",\"overrides\":[],\"properties\":[{\"default\":null,\"kind\":null,\"name\":\"background\"},{\"default\":3000,\"kind\":null,\"name\":\"duration\"},{\"default\":null,\"kind\":null,\"name\":\"icon\"},{\"default\":\"\",\"kind\":null,\"name\":\"message\"},{\"default\":null,\"kind\":null,\"name\":\"notification_type\"},{\"default\":false,\"kind\":null,\"name\":\"_destroyed\"}]},{\"extends\":null,\"module\":null,\"name\":\"TemplateActions1\",\"overrides\":[],\"properties\":[{\"default\":0,\"kind\":null,\"name\":\"open_modal\"},{\"default\":0,\"kind\":null,\"name\":\"close_modal\"}]},{\"extends\":null,\"module\":null,\"name\":\"MaterialTemplateActions1\",\"overrides\":[],\"properties\":[{\"default\":0,\"kind\":null,\"name\":\"open_modal\"},{\"default\":0,\"kind\":null,\"name\":\"close_modal\"}]}],\"roots\":{\"references\":[{\"attributes\":{\"data\":{\"Variable\":[\"IYE\",\"IYE\",\"IYE\",\"IYE\",\"IYE\",\"IYE\",\"IYE\",\"IYE\",\"IYE\",\"IYE\",\"IYE\",\"IYE\",\"IYE\",\"IYE\",\"IYE\",\"IYE\",\"IYE\",\"IYE\",\"IYE\",\"IYE\",\"IYE\",\"IYE\",\"IYE\",\"IYE\",\"IYE\",\"IYE\",\"IYE\",\"IYE\",\"IYE\",\"IYE\",\"IYE\",\"IYE\",\"IYE\",\"IYE\",\"IYE\",\"IYE\",\"IYE\",\"IYE\",\"IYE\",\"IYE\",\"IYE\",\"IYE\",\"IYE\",\"IYE\",\"IYE\",\"IYE\",\"IYE\",\"IYE\",\"IYE\",\"IYE\",\"IYE\",\"IYE\",\"IYE\",\"IYE\",\"IYE\",\"IYE\",\"IYE\",\"IYE\",\"IYE\",\"IYE\",\"IYE\",\"IYE\",\"IYE\",\"IYE\",\"IYE\",\"IYE\",\"IYE\",\"IYE\",\"IYE\",\"IYE\",\"IYE\",\"IYE\",\"IYE\",\"IYE\",\"IYE\",\"IYE\",\"IYE\",\"IYE\",\"IYE\",\"IYE\",\"IYE\",\"IYE\",\"IYE\",\"IYE\",\"IYE\",\"IYE\",\"IYE\",\"IYE\",\"IYE\",\"IYE\",\"IYE\",\"IYE\",\"IYE\",\"IYE\",\"IYE\",\"IYE\",\"IYE\",\"IYE\",\"IYE\",\"IYE\",\"IYE\",\"IYE\",\"IYE\",\"IYE\",\"IYE\",\"IYE\",\"IYE\",\"IYE\",\"IYE\",\"IYE\",\"IYE\",\"IYE\",\"IYE\",\"IYE\",\"IYE\",\"IYE\",\"IYE\",\"IYE\",\"IYE\",\"IYE\",\"IYE\",\"IYE\",\"IYE\",\"IYE\",\"IYE\",\"IYE\",\"IYE\",\"IYE\",\"IYE\",\"IYE\",\"IYE\",\"IYE\",\"IYE\",\"IYE\",\"IYE\",\"IYE\",\"IYE\",\"IYE\",\"IYE\",\"IYE\",\"IYE\",\"IYE\",\"IYE\",\"IYE\",\"IYE\",\"IYE\",\"IYE\",\"IYE\",\"IYE\",\"IYE\",\"IYE\",\"IYE\",\"IYE\",\"IYE\",\"IYE\",\"IYE\",\"IYE\",\"IYE\",\"IYE\",\"IYE\",\"IYE\",\"IYE\",\"IYE\",\"IYE\",\"IYE\",\"IYE\",\"IYE\",\"IYE\",\"IYE\",\"IYE\",\"IYE\",\"IYE\",\"IYE\",\"IYE\",\"IYE\",\"IYE\",\"IYE\",\"IYE\",\"IYE\",\"IYE\",\"IYE\",\"IYE\",\"IYE\",\"IYE\",\"IYE\",\"IYE\",\"IYE\",\"IYE\",\"IYE\",\"IYE\",\"IYE\",\"IYE\",\"IYE\",\"IYE\",\"IYE\",\"IYE\",\"IYE\",\"IYE\",\"IYE\",\"IYE\",\"IYE\",\"IYE\",\"IYE\",\"IYE\",\"IYE\",\"IYE\",\"IYE\",\"IYE\",\"IYE\",\"IYE\",\"IYE\",\"IYE\",\"IYE\",\"IYE\",\"IYE\",\"IYE\",\"IYE\",\"IYE\",\"IYE\",\"IYE\",\"IYE\",\"IYE\",\"IYE\",\"IYE\",\"IYE\",\"IYE\",\"IYE\",\"IYE\",\"IYE\",\"IYE\",\"IYE\",\"IYE\",\"IYE\",\"IYE\",\"IYE\",\"IYE\",\"IYE\",\"IYE\",\"IYE\",\"IYE\",\"IYE\",\"IYE\",\"IYE\",\"IYE\",\"IYE\",\"IYE\",\"IYE\",\"IYE\",\"IYE\",\"IYE\"],\"timestamp\":{\"__ndarray__\":\"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\",\"dtype\":\"float64\",\"order\":\"little\",\"shape\":[250]},\"value\":{\"__ndarray__\":\"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\",\"dtype\":\"float64\",\"order\":\"little\",\"shape\":[250]}},\"selected\":{\"id\":\"4054\"},\"selection_policy\":{\"id\":\"4067\"}},\"id\":\"4053\",\"type\":\"ColumnDataSource\"},{\"attributes\":{\"line_color\":\"#fc4f30\",\"line_width\":2,\"tags\":[\"apply_ranges\"],\"x\":{\"field\":\"timestamp\"},\"y\":{\"field\":\"value\"}},\"id\":\"4117\",\"type\":\"Line\"},{\"attributes\":{\"coordinates\":null,\"data_source\":{\"id\":\"4085\"},\"glyph\":{\"id\":\"4088\"},\"group\":null,\"hover_glyph\":null,\"muted_glyph\":{\"id\":\"4090\"},\"nonselection_glyph\":{\"id\":\"4089\"},\"selection_glyph\":{\"id\":\"4117\"},\"view\":{\"id\":\"4092\"}},\"id\":\"4091\",\"type\":\"GlyphRenderer\"},{\"attributes\":{},\"id\":\"4046\",\"type\":\"DatetimeTickFormatter\"},{\"attributes\":{\"months\":[0,1,2,3,4,5,6,7,8,9,10,11]},\"id\":\"4077\",\"type\":\"MonthsTicker\"},{\"attributes\":{\"line_alpha\":0.2,\"line_color\":\"#fc4f30\",\"line_width\":2,\"tags\":[\"apply_ranges\"],\"x\":{\"field\":\"timestamp\"},\"y\":{\"field\":\"value\"}},\"id\":\"4090\",\"type\":\"Line\"},{\"attributes\":{\"data\":{\"Variable\":[\"XME\",\"XME\",\"XME\",\"XME\",\"XME\",\"XME\",\"XME\",\"XME\",\"XME\",\"XME\",\"XME\",\"XME\",\"XME\",\"XME\",\"XME\",\"XME\",\"XME\",\"XME\",\"XME\",\"XME\",\"XME\",\"XME\",\"XME\",\"XME\",\"XME\",\"XME\",\"XME\",\"XME\",\"XME\",\"XME\",\"XME\",\"XME\",\"XME\",\"XME\",\"XME\",\"XME\",\"XME\",\"XME\",\"XME\",\"XME\",\"XME\",\"XME\",\"XME\",\"XME\",\"XME\",\"XME\",\"XME\",\"XME\",\"XME\",\"XME\",\"XME\",\"XME\",\"XME\",\"XME\",\"XME\",\"XME\",\"XME\",\"XME\",\"XME\",\"XME\",\"XME\",\"XME\",\"XME\",\"XME\",\"XME\",\"XME\",\"XME\",\"XME\",\"XME\",\"XME\",\"XME\",\"XME\",\"XME\",\"XME\",\"XME\",\"XME\",\"XME\",\"XME\",\"XME\",\"XME\",\"XME\",\"XME\",\"XME\",\"XME\",\"XME\",\"XME\",\"XME\",\"XME\",\"XME\",\"XME\",\"XME\",\"XME\",\"XME\",\"XME\",\"XME\",\"XME\",\"XME\",\"XME\",\"XME\",\"XME\",\"XME\",\"XME\",\"XME\",\"XME\",\"XME\",\"XME\",\"XME\",\"XME\",\"XME\",\"XME\",\"XME\",\"XME\",\"XME\",\"XME\",\"XME\",\"XME\",\"XME\",\"XME\",\"XME\",\"XME\",\"XME\",\"XME\",\"XME\",\"XME\",\"XME\",\"XME\",\"XME\",\"XME\",\"XME\",\"XME\",\"XME\",\"XME\",\"XME\",\"XME\",\"XME\",\"XME\",\"XME\",\"XME\",\"XME\",\"XME\",\"XME\",\"XME\",\"XME\",\"XME\",\"XME\",\"XME\",\"XME\",\"XME\",\"XME\",\"XME\",\"XME\",\"XME\",\"XME\",\"XME\",\"XME\",\"XME\",\"XME\",\"XME\",\"XME\",\"XME\",\"XME\",\"XME\",\"XME\",\"XME\",\"XME\",\"XME\",\"XME\",\"XME\",\"XME\",\"XME\",\"XME\",\"XME\",\"XME\",\"XME\",\"XME\",\"XME\",\"XME\",\"XME\",\"XME\",\"XME\",\"XME\",\"XME\",\"XME\",\"XME\",\"XME\",\"XME\",\"XME\",\"XME\",\"XME\",\"XME\",\"XME\",\"XME\",\"XME\",\"XME\",\"XME\",\"XME\",\"XME\",\"XME\",\"XME\",\"XME\",\"XME\",\"XME\",\"XME\",\"XME\",\"XME\",\"XME\",\"XME\",\"XME\",\"XME\",\"XME\",\"XME\",\"XME\",\"XME\",\"XME\",\"XME\",\"XME\",\"XME\",\"XME\",\"XME\",\"XME\",\"XME\",\"XME\",\"XME\",\"XME\",\"XME\",\"XME\",\"XME\",\"XME\",\"XME\",\"XME\",\"XME\",\"XME\",\"XME\",\"XME\",\"XME\",\"XME\",\"XME\",\"XME\",\"XME\",\"XME\",\"XME\",\"XME\",\"XME\",\"XME\",\"XME\",\"XME\",\"XME\",\"XME\",\"XME\",\"XME\"],\"timestamp\":{\"__ndarray__\":\"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\",\"dtype\":\"float64\",\"order\":\"little\",\"shape\":[250]},\"value\":{\"__ndarray__\":\"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\",\"dtype\":\"float64\",\"order\":\"little\",\"shape\":[250]}},\"selected\":{\"id\":\"4119\"},\"selection_policy\":{\"id\":\"4136\"}},\"id\":\"4118\",\"type\":\"ColumnDataSource\"},{\"attributes\":{\"callback\":null,\"formatters\":{\"@{timestamp}\":\"datetime\"},\"renderers\":[{\"id\":\"4059\"},{\"id\":\"4091\"},{\"id\":\"4124\"}],\"tags\":[\"hv_created\"],\"tooltips\":[[\"Variable\",\"@{Variable}\"],[\"timestamp\",\"@{timestamp}{%F %T}\"],[\"value\",\"@{value}\"]]},\"id\":\"4011\",\"type\":\"HoverTool\"},{\"attributes\":{\"bottom_units\":\"screen\",\"coordinates\":null,\"fill_alpha\":0.5,\"fill_color\":\"lightgrey\",\"group\":null,\"left_units\":\"screen\",\"level\":\"overlay\",\"line_alpha\":1.0,\"line_color\":\"black\",\"line_dash\":[4,4],\"line_width\":2,\"right_units\":\"screen\",\"syncable\":false,\"top_units\":\"screen\"},\"id\":\"4036\",\"type\":\"BoxAnnotation\"},{\"attributes\":{\"label\":{\"value\":\"OIH\"},\"renderers\":[{\"id\":\"4091\"}]},\"id\":\"4116\",\"type\":\"LegendItem\"},{\"attributes\":{\"axis\":{\"id\":\"4023\"},\"coordinates\":null,\"grid_line_color\":null,\"group\":null,\"ticker\":null},\"id\":\"4026\",\"type\":\"Grid\"},{\"attributes\":{\"data\":{\"Variable\":[\"OIH\",\"OIH\",\"OIH\",\"OIH\",\"OIH\",\"OIH\",\"OIH\",\"OIH\",\"OIH\",\"OIH\",\"OIH\",\"OIH\",\"OIH\",\"OIH\",\"OIH\",\"OIH\",\"OIH\",\"OIH\",\"OIH\",\"OIH\",\"OIH\",\"OIH\",\"OIH\",\"OIH\",\"OIH\",\"OIH\",\"OIH\",\"OIH\",\"OIH\",\"OIH\",\"OIH\",\"OIH\",\"OIH\",\"OIH\",\"OIH\",\"OIH\",\"OIH\",\"OIH\",\"OIH\",\"OIH\",\"OIH\",\"OIH\",\"OIH\",\"OIH\",\"OIH\",\"OIH\",\"OIH\",\"OIH\",\"OIH\",\"OIH\",\"OIH\",\"OIH\",\"OIH\",\"OIH\",\"OIH\",\"OIH\",\"OIH\",\"OIH\",\"OIH\",\"OIH\",\"OIH\",\"OIH\",\"OIH\",\"OIH\",\"OIH\",\"OIH\",\"OIH\",\"OIH\",\"OIH\",\"OIH\",\"OIH\",\"OIH\",\"OIH\",\"OIH\",\"OIH\",\"OIH\",\"OIH\",\"OIH\",\"OIH\",\"OIH\",\"OIH\",\"OIH\",\"OIH\",\"OIH\",\"OIH\",\"OIH\",\"OIH\",\"OIH\",\"OIH\",\"OIH\",\"OIH\",\"OIH\",\"OIH\",\"OIH\",\"OIH\",\"OIH\",\"OIH\",\"OIH\",\"OIH\",\"OIH\",\"OIH\",\"OIH\",\"OIH\",\"OIH\",\"OIH\",\"OIH\",\"OIH\",\"OIH\",\"OIH\",\"OIH\",\"OIH\",\"OIH\",\"OIH\",\"OIH\",\"OIH\",\"OIH\",\"OIH\",\"OIH\",\"OIH\",\"OIH\",\"OIH\",\"OIH\",\"OIH\",\"OIH\",\"OIH\",\"OIH\",\"OIH\",\"OIH\",\"OIH\",\"OIH\",\"OIH\",\"OIH\",\"OIH\",\"OIH\",\"OIH\",\"OIH\",\"OIH\",\"OIH\",\"OIH\",\"OIH\",\"OIH\",\"OIH\",\"OIH\",\"OIH\",\"OIH\",\"OIH\",\"OIH\",\"OIH\",\"OIH\",\"OIH\",\"OIH\",\"OIH\",\"OIH\",\"OIH\",\"OIH\",\"OIH\",\"OIH\",\"OIH\",\"OIH\",\"OIH\",\"OIH\",\"OIH\",\"OIH\",\"OIH\",\"OIH\",\"OIH\",\"OIH\",\"OIH\",\"OIH\",\"OIH\",\"OIH\",\"OIH\",\"OIH\",\"OIH\",\"OIH\",\"OIH\",\"OIH\",\"OIH\",\"OIH\",\"OIH\",\"OIH\",\"OIH\",\"OIH\",\"OIH\",\"OIH\",\"OIH\",\"OIH\",\"OIH\",\"OIH\",\"OIH\",\"OIH\",\"OIH\",\"OIH\",\"OIH\",\"OIH\",\"OIH\",\"OIH\",\"OIH\",\"OIH\",\"OIH\",\"OIH\",\"OIH\",\"OIH\",\"OIH\",\"OIH\",\"OIH\",\"OIH\",\"OIH\",\"OIH\",\"OIH\",\"OIH\",\"OIH\",\"OIH\",\"OIH\",\"OIH\",\"OIH\",\"OIH\",\"OIH\",\"OIH\",\"OIH\",\"OIH\",\"OIH\",\"OIH\",\"OIH\",\"OIH\",\"OIH\",\"OIH\",\"OIH\",\"OIH\",\"OIH\",\"OIH\",\"OIH\",\"OIH\",\"OIH\",\"OIH\",\"OIH\",\"OIH\",\"OIH\",\"OIH\",\"OIH\",\"OIH\",\"OIH\",\"OIH\",\"OIH\",\"OIH\",\"OIH\",\"OIH\",\"OIH\",\"OIH\",\"OIH\"],\"timestamp\":{\"__ndarray__\":\"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\",\"dtype\":\"float64\",\"order\":\"little\",\"shape\":[250]},\"value\":{\"__ndarray__\":\"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\",\"dtype\":\"float64\",\"order\":\"little\",\"shape\":[250]}},\"selected\":{\"id\":\"4086\"},\"selection_policy\":{\"id\":\"4101\"}},\"id\":\"4085\",\"type\":\"ColumnDataSource\"},{\"attributes\":{\"source\":{\"id\":\"4053\"}},\"id\":\"4060\",\"type\":\"CDSView\"},{\"attributes\":{},\"id\":\"4054\",\"type\":\"Selection\"},{\"attributes\":{\"base\":24,\"mantissas\":[1,2,4,6,8,12],\"max_interval\":43200000.0,\"min_interval\":3600000.0,\"num_minor_ticks\":0},\"id\":\"4072\",\"type\":\"AdaptiveTicker\"},{\"attributes\":{\"overlay\":{\"id\":\"4036\"}},\"id\":\"4034\",\"type\":\"BoxZoomTool\"},{\"attributes\":{},\"id\":\"4035\",\"type\":\"ResetTool\"},{\"attributes\":{},\"id\":\"4067\",\"type\":\"UnionRenderers\"},{\"attributes\":{\"days\":[1,15]},\"id\":\"4076\",\"type\":\"DaysTicker\"},{\"attributes\":{},\"id\":\"4081\",\"type\":\"YearsTicker\"},{\"attributes\":{\"days\":[1,8,15,22]},\"id\":\"4075\",\"type\":\"DaysTicker\"},{\"attributes\":{\"days\":[1,2,3,4,5,6,7,8,9,10,11,12,13,14,15,16,17,18,19,20,21,22,23,24,25,26,27,28,29,30,31]},\"id\":\"4073\",\"type\":\"DaysTicker\"},{\"attributes\":{\"children\":[{\"id\":\"4014\"}],\"height\":500,\"margin\":[0,0,0,0],\"name\":\"Row03083\",\"sizing_mode\":\"fixed\",\"tags\":[\"embedded\"],\"width\":700},\"id\":\"4008\",\"type\":\"Row\"},{\"attributes\":{\"months\":[0,4,8]},\"id\":\"4079\",\"type\":\"MonthsTicker\"},{\"attributes\":{\"months\":[0,2,4,6,8,10]},\"id\":\"4078\",\"type\":\"MonthsTicker\"},{\"attributes\":{\"coordinates\":null,\"group\":null,\"text\":\"21 Day Rolling STD\",\"text_color\":\"black\",\"text_font_size\":\"12pt\"},\"id\":\"4015\",\"type\":\"Title\"},{\"attributes\":{\"end\":0.040371104729396645,\"reset_end\":0.040371104729396645,\"reset_start\":0.00793700453480224,\"start\":0.00793700453480224,\"tags\":[[[\"value\",\"value\",null]]]},\"id\":\"4010\",\"type\":\"Range1d\"},{\"attributes\":{\"above\":[{\"id\":\"4082\"}],\"below\":[{\"id\":\"4023\"}],\"center\":[{\"id\":\"4026\"},{\"id\":\"4030\"}],\"height\":500,\"left\":[{\"id\":\"4027\"}],\"margin\":[5,5,5,5],\"min_border_bottom\":10,\"min_border_left\":10,\"min_border_right\":10,\"min_border_top\":10,\"output_backend\":\"webgl\",\"renderers\":[{\"id\":\"4059\"},{\"id\":\"4091\"},{\"id\":\"4124\"}],\"sizing_mode\":\"fixed\",\"title\":{\"id\":\"4015\"},\"toolbar\":{\"id\":\"4037\"},\"width\":700,\"x_range\":{\"id\":\"4009\"},\"x_scale\":{\"id\":\"4019\"},\"y_range\":{\"id\":\"4010\"},\"y_scale\":{\"id\":\"4021\"}},\"id\":\"4014\",\"subtype\":\"Figure\",\"type\":\"Plot\"},{\"attributes\":{\"line_color\":\"#30a2da\",\"line_width\":2,\"tags\":[\"apply_ranges\"],\"x\":{\"field\":\"timestamp\"},\"y\":{\"field\":\"value\"}},\"id\":\"4056\",\"type\":\"Line\"},{\"attributes\":{},\"id\":\"4031\",\"type\":\"SaveTool\"},{\"attributes\":{},\"id\":\"4119\",\"type\":\"Selection\"},{\"attributes\":{\"click_policy\":\"mute\",\"coordinates\":null,\"group\":null,\"items\":[{\"id\":\"4083\"},{\"id\":\"4116\"},{\"id\":\"4151\"}],\"location\":[0,0],\"orientation\":\"horizontal\",\"title\":\"Variable\"},\"id\":\"4082\",\"type\":\"Legend\"},{\"attributes\":{},\"id\":\"4028\",\"type\":\"BasicTicker\"},{\"attributes\":{\"end\":1688961600000.0,\"reset_end\":1688961600000.0,\"reset_start\":1657598400000.0,\"start\":1657598400000.0,\"tags\":[[[\"timestamp\",\"timestamp\",null]]]},\"id\":\"4009\",\"type\":\"Range1d\"},{\"attributes\":{\"active_drag\":{\"id\":\"4032\"},\"active_scroll\":{\"id\":\"4033\"},\"tools\":[{\"id\":\"4011\"},{\"id\":\"4031\"},{\"id\":\"4032\"},{\"id\":\"4033\"},{\"id\":\"4034\"},{\"id\":\"4035\"}]},\"id\":\"4037\",\"type\":\"Toolbar\"},{\"attributes\":{},\"id\":\"4086\",\"type\":\"Selection\"},{\"attributes\":{\"line_alpha\":0.1,\"line_color\":\"#fc4f30\",\"line_width\":2,\"tags\":[\"apply_ranges\"],\"x\":{\"field\":\"timestamp\"},\"y\":{\"field\":\"value\"}},\"id\":\"4089\",\"type\":\"Line\"},{\"attributes\":{},\"id\":\"4021\",\"type\":\"LinearScale\"},{\"attributes\":{\"format\":\"%.0f\"},\"id\":\"4044\",\"type\":\"PrintfTickFormatter\"},{\"attributes\":{},\"id\":\"4050\",\"type\":\"AllLabels\"},{\"attributes\":{\"axis_label\":\"Date\",\"coordinates\":null,\"formatter\":{\"id\":\"4046\"},\"group\":null,\"major_label_policy\":{\"id\":\"4047\"},\"ticker\":{\"id\":\"4024\"}},\"id\":\"4023\",\"type\":\"DatetimeAxis\"},{\"attributes\":{\"axis_label\":\"Daily Returns\",\"coordinates\":null,\"formatter\":{\"id\":\"4044\"},\"group\":null,\"major_label_policy\":{\"id\":\"4050\"},\"ticker\":{\"id\":\"4028\"}},\"id\":\"4027\",\"type\":\"LinearAxis\"},{\"attributes\":{\"line_color\":\"#30a2da\",\"line_width\":2,\"tags\":[\"apply_ranges\"],\"x\":{\"field\":\"timestamp\"},\"y\":{\"field\":\"value\"}},\"id\":\"4084\",\"type\":\"Line\"},{\"attributes\":{\"line_alpha\":0.1,\"line_color\":\"#e5ae38\",\"line_width\":2,\"tags\":[\"apply_ranges\"],\"x\":{\"field\":\"timestamp\"},\"y\":{\"field\":\"value\"}},\"id\":\"4122\",\"type\":\"Line\"},{\"attributes\":{},\"id\":\"4047\",\"type\":\"AllLabels\"},{\"attributes\":{\"line_alpha\":0.2,\"line_color\":\"#e5ae38\",\"line_width\":2,\"tags\":[\"apply_ranges\"],\"x\":{\"field\":\"timestamp\"},\"y\":{\"field\":\"value\"}},\"id\":\"4123\",\"type\":\"Line\"},{\"attributes\":{\"num_minor_ticks\":5,\"tickers\":[{\"id\":\"4070\"},{\"id\":\"4071\"},{\"id\":\"4072\"},{\"id\":\"4073\"},{\"id\":\"4074\"},{\"id\":\"4075\"},{\"id\":\"4076\"},{\"id\":\"4077\"},{\"id\":\"4078\"},{\"id\":\"4079\"},{\"id\":\"4080\"},{\"id\":\"4081\"}]},\"id\":\"4024\",\"type\":\"DatetimeTicker\"},{\"attributes\":{},\"id\":\"4033\",\"type\":\"WheelZoomTool\"},{\"attributes\":{\"line_alpha\":0.1,\"line_color\":\"#30a2da\",\"line_width\":2,\"tags\":[\"apply_ranges\"],\"x\":{\"field\":\"timestamp\"},\"y\":{\"field\":\"value\"}},\"id\":\"4057\",\"type\":\"Line\"},{\"attributes\":{\"line_color\":\"#e5ae38\",\"line_width\":2,\"tags\":[\"apply_ranges\"],\"x\":{\"field\":\"timestamp\"},\"y\":{\"field\":\"value\"}},\"id\":\"4121\",\"type\":\"Line\"},{\"attributes\":{\"mantissas\":[1,2,5],\"max_interval\":500.0,\"num_minor_ticks\":0},\"id\":\"4070\",\"type\":\"AdaptiveTicker\"},{\"attributes\":{\"coordinates\":null,\"data_source\":{\"id\":\"4053\"},\"glyph\":{\"id\":\"4056\"},\"group\":null,\"hover_glyph\":null,\"muted_glyph\":{\"id\":\"4058\"},\"nonselection_glyph\":{\"id\":\"4057\"},\"selection_glyph\":{\"id\":\"4084\"},\"view\":{\"id\":\"4060\"}},\"id\":\"4059\",\"type\":\"GlyphRenderer\"},{\"attributes\":{},\"id\":\"4101\",\"type\":\"UnionRenderers\"},{\"attributes\":{\"axis\":{\"id\":\"4027\"},\"coordinates\":null,\"dimension\":1,\"grid_line_color\":null,\"group\":null,\"ticker\":null},\"id\":\"4030\",\"type\":\"Grid\"},{\"attributes\":{\"line_alpha\":0.2,\"line_color\":\"#30a2da\",\"line_width\":2,\"tags\":[\"apply_ranges\"],\"x\":{\"field\":\"timestamp\"},\"y\":{\"field\":\"value\"}},\"id\":\"4058\",\"type\":\"Line\"},{\"attributes\":{\"days\":[1,4,7,10,13,16,19,22,25,28]},\"id\":\"4074\",\"type\":\"DaysTicker\"},{\"attributes\":{\"line_color\":\"#fc4f30\",\"line_width\":2,\"tags\":[\"apply_ranges\"],\"x\":{\"field\":\"timestamp\"},\"y\":{\"field\":\"value\"}},\"id\":\"4088\",\"type\":\"Line\"},{\"attributes\":{\"label\":{\"value\":\"XME\"},\"renderers\":[{\"id\":\"4124\"}]},\"id\":\"4151\",\"type\":\"LegendItem\"},{\"attributes\":{\"source\":{\"id\":\"4118\"}},\"id\":\"4125\",\"type\":\"CDSView\"},{\"attributes\":{\"label\":{\"value\":\"IYE\"},\"renderers\":[{\"id\":\"4059\"}]},\"id\":\"4083\",\"type\":\"LegendItem\"},{\"attributes\":{\"source\":{\"id\":\"4085\"}},\"id\":\"4092\",\"type\":\"CDSView\"},{\"attributes\":{\"line_color\":\"#e5ae38\",\"line_width\":2,\"tags\":[\"apply_ranges\"],\"x\":{\"field\":\"timestamp\"},\"y\":{\"field\":\"value\"}},\"id\":\"4152\",\"type\":\"Line\"},{\"attributes\":{\"base\":60,\"mantissas\":[1,2,5,10,15,20,30],\"max_interval\":1800000.0,\"min_interval\":1000.0,\"num_minor_ticks\":0},\"id\":\"4071\",\"type\":\"AdaptiveTicker\"},{\"attributes\":{},\"id\":\"4019\",\"type\":\"LinearScale\"},{\"attributes\":{\"coordinates\":null,\"data_source\":{\"id\":\"4118\"},\"glyph\":{\"id\":\"4121\"},\"group\":null,\"hover_glyph\":null,\"muted_glyph\":{\"id\":\"4123\"},\"nonselection_glyph\":{\"id\":\"4122\"},\"selection_glyph\":{\"id\":\"4152\"},\"view\":{\"id\":\"4125\"}},\"id\":\"4124\",\"type\":\"GlyphRenderer\"},{\"attributes\":{\"months\":[0,6]},\"id\":\"4080\",\"type\":\"MonthsTicker\"},{\"attributes\":{},\"id\":\"4032\",\"type\":\"PanTool\"},{\"attributes\":{},\"id\":\"4136\",\"type\":\"UnionRenderers\"}],\"root_ids\":[\"4008\"]},\"title\":\"Bokeh Application\",\"version\":\"2.4.3\"}};\n",
       "    var render_items = [{\"docid\":\"c8d8ab05-3a30-4e38-865a-fda5689b84cd\",\"root_ids\":[\"4008\"],\"roots\":{\"4008\":\"056c76e7-04f6-48be-8cb5-da94e97514d6\"}}];\n",
       "    root.Bokeh.embed.embed_items_notebook(docs_json, render_items);\n",
       "    for (const render_item of render_items) {\n",
       "      for (const root_id of render_item.root_ids) {\n",
       "\tconst id_el = document.getElementById(root_id)\n",
       "\tif (id_el.children.length && (id_el.children[0].className === 'bk-root')) {\n",
       "\t  const root_el = id_el.children[0]\n",
       "\t  root_el.id = root_el.id + '-rendered'\n",
       "\t}\n",
       "      }\n",
       "    }\n",
       "  }\n",
       "  if (root.Bokeh !== undefined && root.Bokeh.Panel !== undefined) {\n",
       "    embed_document(root);\n",
       "  } else {\n",
       "    var attempts = 0;\n",
       "    var timer = setInterval(function(root) {\n",
       "      if (root.Bokeh !== undefined && root.Bokeh.Panel !== undefined) {\n",
       "        clearInterval(timer);\n",
       "        embed_document(root);\n",
       "      } else if (document.readyState == \"complete\") {\n",
       "        attempts++;\n",
       "        if (attempts > 200) {\n",
       "          clearInterval(timer);\n",
       "          console.log(\"Bokeh: ERROR: Unable to run BokehJS code because BokehJS library is missing\");\n",
       "        }\n",
       "      }\n",
       "    }, 25, root)\n",
       "  }\n",
       "})(window);</script>"
      ],
      "text/plain": [
       ":NdOverlay   [Variable]\n",
       "   :Curve   [timestamp]   (value)"
      ]
     },
     "execution_count": 113,
     "metadata": {
      "application/vnd.holoviews_exec.v0+json": {
       "id": "4008"
      }
     },
     "output_type": "execute_result"
    }
   ],
   "source": [
    "# Calculate the rolling standard deviation for all portfolios using a 21-day window\n",
    "df_daily.rolling(window=21).std().hvplot( \n",
    "    x=\"timestamp\",\n",
    "    y=[\"IYE\", \"OIH\", \"XME\"],\n",
    "    xlabel=\"Date\",\n",
    "    ylabel=\"Daily Returns\",\n",
    "    width=700,\n",
    "    height=500,\n",
    "    legend=\"top\",\n",
    "    title=\"21 Day Rolling STD\"\n",
    ").opts(yformatter=\"%.0f\")"
   ]
  },
  {
   "cell_type": "code",
   "execution_count": 114,
   "id": "40faa0f1-3f45-471d-84bf-12889eb6cbd3",
   "metadata": {},
   "outputs": [
    {
     "data": {
      "text/html": [
       "<div>\n",
       "<style scoped>\n",
       "    .dataframe tbody tr th:only-of-type {\n",
       "        vertical-align: middle;\n",
       "    }\n",
       "\n",
       "    .dataframe tbody tr th {\n",
       "        vertical-align: top;\n",
       "    }\n",
       "\n",
       "    .dataframe thead th {\n",
       "        text-align: right;\n",
       "    }\n",
       "</style>\n",
       "<table border=\"1\" class=\"dataframe\">\n",
       "  <thead>\n",
       "    <tr style=\"text-align: right;\">\n",
       "      <th></th>\n",
       "      <th>IYE</th>\n",
       "      <th>OIH</th>\n",
       "      <th>XME</th>\n",
       "    </tr>\n",
       "  </thead>\n",
       "  <tbody>\n",
       "    <tr>\n",
       "      <th>IYE</th>\n",
       "      <td>1.000000</td>\n",
       "      <td>0.906929</td>\n",
       "      <td>0.666521</td>\n",
       "    </tr>\n",
       "    <tr>\n",
       "      <th>OIH</th>\n",
       "      <td>0.906929</td>\n",
       "      <td>1.000000</td>\n",
       "      <td>0.665805</td>\n",
       "    </tr>\n",
       "    <tr>\n",
       "      <th>XME</th>\n",
       "      <td>0.666521</td>\n",
       "      <td>0.665805</td>\n",
       "      <td>1.000000</td>\n",
       "    </tr>\n",
       "  </tbody>\n",
       "</table>\n",
       "</div>"
      ],
      "text/plain": [
       "          IYE       OIH       XME\n",
       "IYE  1.000000  0.906929  0.666521\n",
       "OIH  0.906929  1.000000  0.665805\n",
       "XME  0.666521  0.665805  1.000000"
      ]
     },
     "execution_count": 114,
     "metadata": {},
     "output_type": "execute_result"
    }
   ],
   "source": [
    "# Calculate the correlation\n",
    "correlation = df_daily.corr()\n",
    "# Display de correlation matrix\n",
    "correlation"
   ]
  },
  {
   "cell_type": "code",
   "execution_count": 115,
   "id": "680f3cab-9355-4ed4-8830-a35ee4fa7d8c",
   "metadata": {},
   "outputs": [
    {
     "data": {
      "text/plain": [
       "<Axes: >"
      ]
     },
     "execution_count": 115,
     "metadata": {},
     "output_type": "execute_result"
    },
    {
     "data": {
      "image/png": "[encoded data removed]",
      "text/plain": [
       "<Figure size 640x480 with 2 Axes>"
      ]
     },
     "metadata": {},
     "output_type": "display_data"
    }
   ],
   "source": [
    "# Use the `heatmap` function from the seaborn library to visualize correlations\n",
    "sns.heatmap(correlation, vmin=-1, vmax=1)"
   ]
  },
  {
   "cell_type": "code",
   "execution_count": 120,
   "id": "f92cd19c-50db-460c-bec3-b247af81be1c",
   "metadata": {},
   "outputs": [
    {
     "data": {
      "text/plain": [
       "<Axes: xlabel='timestamp'>"
      ]
     },
     "execution_count": 120,
     "metadata": {},
     "output_type": "execute_result"
    },
    {
     "data": {
      "image/png": "[encoded data removed]",
      "text/plain": [
       "<Figure size 2000x1000 with 1 Axes>"
      ]
     },
     "metadata": {},
     "output_type": "display_data"
    }
   ],
   "source": [
    "# Use `ewm` to calculate the rolling window\n",
    "df_daily_std.ewm(halflife=21).mean()\n",
    "df_daily_std = df_daily.ewm(span = 21,adjust = False).mean()\n",
    "(1+df_daily_std).cumprod().plot(figsize = (20,10))"
   ]
  },
  {
   "cell_type": "code",
   "execution_count": 121,
   "id": "8751a347-d816-4804-8034-be79a4b3ed8e",
   "metadata": {},
   "outputs": [
    {
     "data": {
      "text/plain": [
       "IYE    0.618257\n",
       "OIH    1.057266\n",
       "XME    0.735193\n",
       "dtype: float64"
      ]
     },
     "execution_count": 121,
     "metadata": {},
     "output_type": "execute_result"
    }
   ],
   "source": [
    "# Annualized Sharpe Ratios\n",
    "sharpe_ratios = df_daily.mean()*252/(df_daily.std()*np.sqrt(252))\n",
    "sharpe_ratios"
   ]
  },
  {
   "cell_type": "code",
   "execution_count": 122,
   "id": "015816d8-046b-4b95-9ad8-8ec4913e84f0",
   "metadata": {},
   "outputs": [
    {
     "data": {
      "text/plain": [
       "<Axes: title={'center': 'Sharpe Ratios'}>"
      ]
     },
     "execution_count": 122,
     "metadata": {},
     "output_type": "execute_result"
    },
    {
     "data": {
      "image/png": "[encoded data removed]",
      "text/plain": [
       "<Figure size 640x480 with 1 Axes>"
      ]
     },
     "metadata": {},
     "output_type": "display_data"
    }
   ],
   "source": [
    "# Visualize the sharpe ratios as a bar plot\n",
    "sharpe_ratios.plot(kind = \"bar\", title = \"Sharpe Ratios\")"
   ]
  },
  {
   "cell_type": "code",
   "execution_count": 123,
   "id": "f8b99810-82c1-49a8-98ec-cdda53edd232",
   "metadata": {},
   "outputs": [],
   "source": [
    "#Out of the three ETFs, OIH performed the best"
   ]
  },
  {
   "cell_type": "code",
   "execution_count": null,
   "id": "a88c9dcd-cefa-4902-9d9e-3f55605f34a6",
   "metadata": {},
   "outputs": [],
   "source": []
  }
 ],
 "metadata": {
  "kernelspec": {
   "display_name": "Python 3 (ipykernel)",
   "language": "python",
   "name": "python3"
  },
  "language_info": {
   "codemirror_mode": {
    "name": "ipython",
    "version": 3
   },
   "file_extension": ".py",
   "mimetype": "text/x-python",
   "name": "python",
   "nbconvert_exporter": "python",
   "pygments_lexer": "ipython3",
   "version": "3.10.11"
  }
 },
 "nbformat": 4,
 "nbformat_minor": 5
}
